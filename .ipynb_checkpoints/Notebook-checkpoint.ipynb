{
 "cells": [
  {
   "cell_type": "markdown",
   "id": "d7ff4493",
   "metadata": {},
   "source": [
    "## Business Understanding\n",
    "\n",
    "### Overview\n",
    "\n",
    "Various factors, including population growth and economic conditions, have influenced the housing market in Kenya. In recent years, competition in the market has led to high prices, with buyers facing stiff competition for homes. However, it should be noted that the potential for a recession and rising inflation rates may lead to changes in the market, including an increase in mortgage rates. The real estate market in Kenya is complex and can be challenging for new investors. However, the predicted growth of the industry and rising population rates in Kenya create a potentially lucrative opportunity for real estate investors. \n"
   ]
  },
  {
   "cell_type": "markdown",
   "id": "a4b19ed9",
   "metadata": {},
   "source": [
    "### Problem Statement\n",
    "\n",
    "Horizon Limited is looking to invest in the real estate market in Kenya but needs help identifying the best houses to invest in and understanding the nature of the market. The company wants to minimize risk but is uncertain about which areas in Kenya are most suitable for real estate development and how the market will perform. They are looking for a solution to identify the best houses to invest in and predict the nature of the market to make informed business decisions."
   ]
  },
  {
   "cell_type": "markdown",
   "id": "fa4b62d1",
   "metadata": {},
   "source": [
    "### 1.7 Research Success Criteria\n",
    "For the success criteria this project will use Mean Square Error (MSE) to determine the efficiency of the model. The project aims for an MSE as low as 0.05%."
   ]
  },
  {
   "cell_type": "markdown",
   "id": "99126f74",
   "metadata": {},
   "source": [
    "### Data Understanding"
   ]
  },
  {
   "cell_type": "code",
   "execution_count": 54,
   "id": "771b2a42",
   "metadata": {},
   "outputs": [],
   "source": [
    "#Importing the neccessary Libraries\n",
    "import pandas as pd\n",
    "import numpy as np\n",
    "import warnings\n",
    "warnings.filterwarnings(\"ignore\")\n",
    "import matplotlib.pyplot as plt\n",
    "import seaborn as sns\n",
    "import statsmodels.api as sm\n",
    "from sklearn.ensemble import RandomForestClassifier\n",
    "from sklearn.ensemble import GradientBoostingRegressor\n",
    "from sklearn.model_selection import GridSearchCV\n",
    "from sklearn.metrics import mean_squared_error\n",
    "\n",
    "\n",
    "# uploading the first dataframe\n",
    "df1 = pd.read_csv('df.csv')"
   ]
  },
  {
   "cell_type": "code",
   "execution_count": 2,
   "id": "53968bfc",
   "metadata": {},
   "outputs": [
    {
     "data": {
      "text/html": [
       "<div>\n",
       "<style scoped>\n",
       "    .dataframe tbody tr th:only-of-type {\n",
       "        vertical-align: middle;\n",
       "    }\n",
       "\n",
       "    .dataframe tbody tr th {\n",
       "        vertical-align: top;\n",
       "    }\n",
       "\n",
       "    .dataframe thead th {\n",
       "        text-align: right;\n",
       "    }\n",
       "</style>\n",
       "<table border=\"1\" class=\"dataframe\">\n",
       "  <thead>\n",
       "    <tr style=\"text-align: right;\">\n",
       "      <th></th>\n",
       "      <th>Location</th>\n",
       "      <th>Price</th>\n",
       "      <th>Bedrooms</th>\n",
       "      <th>Bathrooms</th>\n",
       "      <th>Toilets</th>\n",
       "      <th>Parking</th>\n",
       "    </tr>\n",
       "  </thead>\n",
       "  <tbody>\n",
       "    <tr>\n",
       "      <th>0</th>\n",
       "      <td>Runda</td>\n",
       "      <td>100,000,000</td>\n",
       "      <td>5.0</td>\n",
       "      <td>5.0</td>\n",
       "      <td>NaN</td>\n",
       "      <td>NaN</td>\n",
       "    </tr>\n",
       "    <tr>\n",
       "      <th>1</th>\n",
       "      <td>Kileleshwa</td>\n",
       "      <td>27,500,000</td>\n",
       "      <td>4.0</td>\n",
       "      <td>5.0</td>\n",
       "      <td>5.0</td>\n",
       "      <td>NaN</td>\n",
       "    </tr>\n",
       "    <tr>\n",
       "      <th>2</th>\n",
       "      <td>Ruai</td>\n",
       "      <td>7,800,000</td>\n",
       "      <td>5.0</td>\n",
       "      <td>4.0</td>\n",
       "      <td>5.0</td>\n",
       "      <td>2</td>\n",
       "    </tr>\n",
       "    <tr>\n",
       "      <th>3</th>\n",
       "      <td>Karen</td>\n",
       "      <td>75,500,000</td>\n",
       "      <td>5.0</td>\n",
       "      <td>5.0</td>\n",
       "      <td>NaN</td>\n",
       "      <td>NaN</td>\n",
       "    </tr>\n",
       "    <tr>\n",
       "      <th>4</th>\n",
       "      <td>Haven</td>\n",
       "      <td>120,000,000</td>\n",
       "      <td>4.0</td>\n",
       "      <td>4.0</td>\n",
       "      <td>4.0</td>\n",
       "      <td>4</td>\n",
       "    </tr>\n",
       "    <tr>\n",
       "      <th>...</th>\n",
       "      <td>...</td>\n",
       "      <td>...</td>\n",
       "      <td>...</td>\n",
       "      <td>...</td>\n",
       "      <td>...</td>\n",
       "      <td>...</td>\n",
       "    </tr>\n",
       "    <tr>\n",
       "      <th>302</th>\n",
       "      <td>Kilimani</td>\n",
       "      <td>26,000,000</td>\n",
       "      <td>3.0</td>\n",
       "      <td>NaN</td>\n",
       "      <td>NaN</td>\n",
       "      <td>NaN</td>\n",
       "    </tr>\n",
       "    <tr>\n",
       "      <th>303</th>\n",
       "      <td>Kilimani</td>\n",
       "      <td>25,000,000</td>\n",
       "      <td>NaN</td>\n",
       "      <td>NaN</td>\n",
       "      <td>NaN</td>\n",
       "      <td>NaN</td>\n",
       "    </tr>\n",
       "    <tr>\n",
       "      <th>304</th>\n",
       "      <td>Kihingo</td>\n",
       "      <td>165,000,000</td>\n",
       "      <td>4.0</td>\n",
       "      <td>5.0</td>\n",
       "      <td>NaN</td>\n",
       "      <td>NaN</td>\n",
       "    </tr>\n",
       "    <tr>\n",
       "      <th>305</th>\n",
       "      <td>Chalbi Drive</td>\n",
       "      <td>66,000,000</td>\n",
       "      <td>4.0</td>\n",
       "      <td>5.0</td>\n",
       "      <td>NaN</td>\n",
       "      <td>NaN</td>\n",
       "    </tr>\n",
       "    <tr>\n",
       "      <th>306</th>\n",
       "      <td>House No 21</td>\n",
       "      <td>120,000,000</td>\n",
       "      <td>10.0</td>\n",
       "      <td>10.0</td>\n",
       "      <td>NaN</td>\n",
       "      <td>NaN</td>\n",
       "    </tr>\n",
       "  </tbody>\n",
       "</table>\n",
       "<p>307 rows × 6 columns</p>\n",
       "</div>"
      ],
      "text/plain": [
       "         Location        Price  Bedrooms  Bathrooms  Toilets Parking\n",
       "0           Runda  100,000,000       5.0        5.0      NaN     NaN\n",
       "1      Kileleshwa   27,500,000       4.0        5.0      5.0     NaN\n",
       "2            Ruai    7,800,000       5.0        4.0      5.0       2\n",
       "3           Karen   75,500,000       5.0        5.0      NaN     NaN\n",
       "4           Haven  120,000,000       4.0        4.0      4.0       4\n",
       "..            ...          ...       ...        ...      ...     ...\n",
       "302      Kilimani   26,000,000       3.0        NaN      NaN     NaN\n",
       "303      Kilimani   25,000,000       NaN        NaN      NaN     NaN\n",
       "304       Kihingo  165,000,000       4.0        5.0      NaN     NaN\n",
       "305  Chalbi Drive   66,000,000       4.0        5.0      NaN     NaN\n",
       "306   House No 21  120,000,000      10.0       10.0      NaN     NaN\n",
       "\n",
       "[307 rows x 6 columns]"
      ]
     },
     "execution_count": 2,
     "metadata": {},
     "output_type": "execute_result"
    }
   ],
   "source": [
    "df1"
   ]
  },
  {
   "cell_type": "markdown",
   "id": "7f63de05",
   "metadata": {},
   "source": [
    "This first dataframe has 320 rows and 6 columns"
   ]
  },
  {
   "cell_type": "code",
   "execution_count": 3,
   "id": "00d7a0d0",
   "metadata": {},
   "outputs": [
    {
     "data": {
      "text/html": [
       "<div>\n",
       "<style scoped>\n",
       "    .dataframe tbody tr th:only-of-type {\n",
       "        vertical-align: middle;\n",
       "    }\n",
       "\n",
       "    .dataframe tbody tr th {\n",
       "        vertical-align: top;\n",
       "    }\n",
       "\n",
       "    .dataframe thead th {\n",
       "        text-align: right;\n",
       "    }\n",
       "</style>\n",
       "<table border=\"1\" class=\"dataframe\">\n",
       "  <thead>\n",
       "    <tr style=\"text-align: right;\">\n",
       "      <th></th>\n",
       "      <th>Location</th>\n",
       "      <th>Price</th>\n",
       "      <th>Bedrooms</th>\n",
       "      <th>Bathrooms</th>\n",
       "    </tr>\n",
       "  </thead>\n",
       "  <tbody>\n",
       "    <tr>\n",
       "      <th>0</th>\n",
       "      <td>Nairobi South, Starehe</td>\n",
       "      <td>26,000,000</td>\n",
       "      <td>4</td>\n",
       "      <td>3</td>\n",
       "    </tr>\n",
       "    <tr>\n",
       "      <th>1</th>\n",
       "      <td>Karen, Langata</td>\n",
       "      <td>100,000,000</td>\n",
       "      <td>5</td>\n",
       "      <td>4</td>\n",
       "    </tr>\n",
       "    <tr>\n",
       "      <th>2</th>\n",
       "      <td>Nairobi</td>\n",
       "      <td>16,750,000</td>\n",
       "      <td>3</td>\n",
       "      <td>2</td>\n",
       "    </tr>\n",
       "    <tr>\n",
       "      <th>3</th>\n",
       "      <td>Nairobi</td>\n",
       "      <td>13,000,000</td>\n",
       "      <td>3</td>\n",
       "      <td>2</td>\n",
       "    </tr>\n",
       "    <tr>\n",
       "      <th>4</th>\n",
       "      <td>Nairobi</td>\n",
       "      <td>48,000,000</td>\n",
       "      <td>4</td>\n",
       "      <td>5</td>\n",
       "    </tr>\n",
       "    <tr>\n",
       "      <th>...</th>\n",
       "      <td>...</td>\n",
       "      <td>...</td>\n",
       "      <td>...</td>\n",
       "      <td>...</td>\n",
       "    </tr>\n",
       "    <tr>\n",
       "      <th>43051</th>\n",
       "      <td>Nairobi</td>\n",
       "      <td>48,000,000</td>\n",
       "      <td>4</td>\n",
       "      <td>4</td>\n",
       "    </tr>\n",
       "    <tr>\n",
       "      <th>43052</th>\n",
       "      <td>Nairobi</td>\n",
       "      <td>65,000,000</td>\n",
       "      <td>4</td>\n",
       "      <td>4</td>\n",
       "    </tr>\n",
       "    <tr>\n",
       "      <th>43053</th>\n",
       "      <td>Nairobi</td>\n",
       "      <td>70,000,000</td>\n",
       "      <td>5</td>\n",
       "      <td>5</td>\n",
       "    </tr>\n",
       "    <tr>\n",
       "      <th>43054</th>\n",
       "      <td>Nairobi</td>\n",
       "      <td>400,000,000</td>\n",
       "      <td>4</td>\n",
       "      <td>5</td>\n",
       "    </tr>\n",
       "    <tr>\n",
       "      <th>43055</th>\n",
       "      <td>Nairobi</td>\n",
       "      <td>42,000,000</td>\n",
       "      <td>5</td>\n",
       "      <td>4</td>\n",
       "    </tr>\n",
       "  </tbody>\n",
       "</table>\n",
       "<p>43056 rows × 4 columns</p>\n",
       "</div>"
      ],
      "text/plain": [
       "                      Location        Price  Bedrooms Bathrooms\n",
       "0       Nairobi South, Starehe   26,000,000         4        3 \n",
       "1               Karen, Langata  100,000,000         5        4 \n",
       "2                      Nairobi   16,750,000         3        2 \n",
       "3                      Nairobi   13,000,000         3        2 \n",
       "4                      Nairobi   48,000,000         4        5 \n",
       "...                        ...          ...       ...       ...\n",
       "43051                  Nairobi   48,000,000         4        4 \n",
       "43052                  Nairobi   65,000,000         4        4 \n",
       "43053                  Nairobi   70,000,000         5        5 \n",
       "43054                  Nairobi  400,000,000         4        5 \n",
       "43055                  Nairobi   42,000,000         5        4 \n",
       "\n",
       "[43056 rows x 4 columns]"
      ]
     },
     "execution_count": 3,
     "metadata": {},
     "output_type": "execute_result"
    }
   ],
   "source": [
    "# uploading the second dataframe\n",
    "df2 = pd.read_csv('stardata.csv')\n",
    "df2"
   ]
  },
  {
   "cell_type": "markdown",
   "id": "25790030",
   "metadata": {},
   "source": [
    "The second datafrane has 43,056 rows and columns"
   ]
  },
  {
   "cell_type": "code",
   "execution_count": 4,
   "id": "7856a21f",
   "metadata": {},
   "outputs": [
    {
     "data": {
      "text/html": [
       "<div>\n",
       "<style scoped>\n",
       "    .dataframe tbody tr th:only-of-type {\n",
       "        vertical-align: middle;\n",
       "    }\n",
       "\n",
       "    .dataframe tbody tr th {\n",
       "        vertical-align: top;\n",
       "    }\n",
       "\n",
       "    .dataframe thead th {\n",
       "        text-align: right;\n",
       "    }\n",
       "</style>\n",
       "<table border=\"1\" class=\"dataframe\">\n",
       "  <thead>\n",
       "    <tr style=\"text-align: right;\">\n",
       "      <th></th>\n",
       "      <th>Location</th>\n",
       "      <th>Price</th>\n",
       "      <th>Bedrooms</th>\n",
       "      <th>Bathrooms</th>\n",
       "      <th>Toilets</th>\n",
       "      <th>Parking</th>\n",
       "    </tr>\n",
       "  </thead>\n",
       "  <tbody>\n",
       "    <tr>\n",
       "      <th>0</th>\n",
       "      <td>Runda</td>\n",
       "      <td>100,000,000</td>\n",
       "      <td>5.0</td>\n",
       "      <td>5.0</td>\n",
       "      <td>NaN</td>\n",
       "      <td>NaN</td>\n",
       "    </tr>\n",
       "    <tr>\n",
       "      <th>1</th>\n",
       "      <td>Kileleshwa</td>\n",
       "      <td>27,500,000</td>\n",
       "      <td>4.0</td>\n",
       "      <td>5.0</td>\n",
       "      <td>5.0</td>\n",
       "      <td>NaN</td>\n",
       "    </tr>\n",
       "    <tr>\n",
       "      <th>2</th>\n",
       "      <td>Ruai</td>\n",
       "      <td>7,800,000</td>\n",
       "      <td>5.0</td>\n",
       "      <td>4.0</td>\n",
       "      <td>5.0</td>\n",
       "      <td>2</td>\n",
       "    </tr>\n",
       "    <tr>\n",
       "      <th>3</th>\n",
       "      <td>Karen</td>\n",
       "      <td>75,500,000</td>\n",
       "      <td>5.0</td>\n",
       "      <td>5.0</td>\n",
       "      <td>NaN</td>\n",
       "      <td>NaN</td>\n",
       "    </tr>\n",
       "    <tr>\n",
       "      <th>4</th>\n",
       "      <td>Haven</td>\n",
       "      <td>120,000,000</td>\n",
       "      <td>4.0</td>\n",
       "      <td>4.0</td>\n",
       "      <td>4.0</td>\n",
       "      <td>4</td>\n",
       "    </tr>\n",
       "    <tr>\n",
       "      <th>...</th>\n",
       "      <td>...</td>\n",
       "      <td>...</td>\n",
       "      <td>...</td>\n",
       "      <td>...</td>\n",
       "      <td>...</td>\n",
       "      <td>...</td>\n",
       "    </tr>\n",
       "    <tr>\n",
       "      <th>43051</th>\n",
       "      <td>Nairobi</td>\n",
       "      <td>48,000,000</td>\n",
       "      <td>4.0</td>\n",
       "      <td>4</td>\n",
       "      <td>NaN</td>\n",
       "      <td>NaN</td>\n",
       "    </tr>\n",
       "    <tr>\n",
       "      <th>43052</th>\n",
       "      <td>Nairobi</td>\n",
       "      <td>65,000,000</td>\n",
       "      <td>4.0</td>\n",
       "      <td>4</td>\n",
       "      <td>NaN</td>\n",
       "      <td>NaN</td>\n",
       "    </tr>\n",
       "    <tr>\n",
       "      <th>43053</th>\n",
       "      <td>Nairobi</td>\n",
       "      <td>70,000,000</td>\n",
       "      <td>5.0</td>\n",
       "      <td>5</td>\n",
       "      <td>NaN</td>\n",
       "      <td>NaN</td>\n",
       "    </tr>\n",
       "    <tr>\n",
       "      <th>43054</th>\n",
       "      <td>Nairobi</td>\n",
       "      <td>400,000,000</td>\n",
       "      <td>4.0</td>\n",
       "      <td>5</td>\n",
       "      <td>NaN</td>\n",
       "      <td>NaN</td>\n",
       "    </tr>\n",
       "    <tr>\n",
       "      <th>43055</th>\n",
       "      <td>Nairobi</td>\n",
       "      <td>42,000,000</td>\n",
       "      <td>5.0</td>\n",
       "      <td>4</td>\n",
       "      <td>NaN</td>\n",
       "      <td>NaN</td>\n",
       "    </tr>\n",
       "  </tbody>\n",
       "</table>\n",
       "<p>43363 rows × 6 columns</p>\n",
       "</div>"
      ],
      "text/plain": [
       "         Location        Price  Bedrooms Bathrooms  Toilets Parking\n",
       "0           Runda  100,000,000       5.0       5.0      NaN     NaN\n",
       "1      Kileleshwa   27,500,000       4.0       5.0      5.0     NaN\n",
       "2            Ruai    7,800,000       5.0       4.0      5.0       2\n",
       "3           Karen   75,500,000       5.0       5.0      NaN     NaN\n",
       "4           Haven  120,000,000       4.0       4.0      4.0       4\n",
       "...           ...          ...       ...       ...      ...     ...\n",
       "43051     Nairobi   48,000,000       4.0        4       NaN     NaN\n",
       "43052     Nairobi   65,000,000       4.0        4       NaN     NaN\n",
       "43053     Nairobi   70,000,000       5.0        5       NaN     NaN\n",
       "43054     Nairobi  400,000,000       4.0        5       NaN     NaN\n",
       "43055     Nairobi   42,000,000       5.0        4       NaN     NaN\n",
       "\n",
       "[43363 rows x 6 columns]"
      ]
     },
     "execution_count": 4,
     "metadata": {},
     "output_type": "execute_result"
    }
   ],
   "source": [
    "df = pd.concat([df1, df2], axis=0)\n",
    "df"
   ]
  },
  {
   "cell_type": "markdown",
   "id": "2b391f27",
   "metadata": {},
   "source": [
    "df refers to the two dataframes combined and the dataframe has 43,376 rows and 6 columns. "
   ]
  },
  {
   "cell_type": "code",
   "execution_count": 5,
   "id": "a5005074",
   "metadata": {},
   "outputs": [
    {
     "data": {
      "text/plain": [
       " Nairobi                    21527\n",
       " Karen, Langata             12558\n",
       " Nairobi South, Starehe      8970\n",
       "Runda                          59\n",
       "Karen                          36\n",
       "                            ...  \n",
       "Nairobi Central                 1\n",
       "Garage On Oneacre North.        1\n",
       "69 Woodvale Close               1\n",
       "Denis Pritt Road                1\n",
       "Nairobi                         1\n",
       "Name: Location, Length: 107, dtype: int64"
      ]
     },
     "execution_count": 5,
     "metadata": {},
     "output_type": "execute_result"
    }
   ],
   "source": [
    "df['Location'].value_counts()"
   ]
  },
  {
   "cell_type": "code",
   "execution_count": 6,
   "id": "1d5eb207",
   "metadata": {},
   "outputs": [
    {
     "data": {
      "text/plain": [
       "5.0     23451\n",
       "4.0     14455\n",
       "3.0      5408\n",
       "6.0        24\n",
       "7.0         9\n",
       "8.0         5\n",
       "10.0        3\n",
       "14.0        2\n",
       "2.0         2\n",
       "16.0        1\n",
       "9.0         1\n",
       "Name: Bedrooms, dtype: int64"
      ]
     },
     "execution_count": 6,
     "metadata": {},
     "output_type": "execute_result"
    }
   ],
   "source": [
    "df['Bedrooms'].value_counts()"
   ]
  },
  {
   "cell_type": "code",
   "execution_count": 7,
   "id": "7f383b1c",
   "metadata": {},
   "outputs": [
    {
     "data": {
      "text/plain": [
       "5         16146\n",
       "4         12558\n",
       "3          5382\n",
       "2          5382\n",
       "7          1794\n",
       "House      1794\n",
       "5.0          90\n",
       "6.0          74\n",
       "4.0          46\n",
       "7.0          25\n",
       "3.0          19\n",
       "2.0           8\n",
       "8.0           6\n",
       "9.0           6\n",
       "10.0          3\n",
       "340.0         1\n",
       "180.0         1\n",
       "18.0          1\n",
       "15.0          1\n",
       "11.0          1\n",
       "1.0           1\n",
       "12.0          1\n",
       "Name: Bathrooms, dtype: int64"
      ]
     },
     "execution_count": 7,
     "metadata": {},
     "output_type": "execute_result"
    }
   ],
   "source": [
    "df['Bathrooms'].value_counts()"
   ]
  },
  {
   "cell_type": "code",
   "execution_count": 8,
   "id": "2e4c3985",
   "metadata": {},
   "outputs": [
    {
     "data": {
      "text/plain": [
       "6.0      82\n",
       "5.0      69\n",
       "4.0      35\n",
       "7.0      26\n",
       "3.0      16\n",
       "2.0       9\n",
       "1.0       8\n",
       "9.0       5\n",
       "8.0       4\n",
       "10.0      2\n",
       "12.0      1\n",
       "18.0      1\n",
       "15.0      1\n",
       "210.0     1\n",
       "11.0      1\n",
       "Name: Toilets, dtype: int64"
      ]
     },
     "execution_count": 8,
     "metadata": {},
     "output_type": "execute_result"
    }
   ],
   "source": [
    "df['Toilets'].value_counts()"
   ]
  },
  {
   "cell_type": "code",
   "execution_count": 9,
   "id": "94dd386c",
   "metadata": {},
   "outputs": [
    {
     "data": {
      "text/plain": [
       "4        42\n",
       "5        34\n",
       "3        26\n",
       "6        25\n",
       "10       21\n",
       "2        18\n",
       "8        12\n",
       "7        10\n",
       "9         5\n",
       "15        3\n",
       "20        2\n",
       "4,830     1\n",
       "14        1\n",
       "30        1\n",
       "5,000     1\n",
       "2,023     1\n",
       "1         1\n",
       "Name: Parking, dtype: int64"
      ]
     },
     "execution_count": 9,
     "metadata": {},
     "output_type": "execute_result"
    }
   ],
   "source": [
    "df['Parking'].value_counts()"
   ]
  },
  {
   "cell_type": "code",
   "execution_count": 10,
   "id": "ac2aab6a",
   "metadata": {},
   "outputs": [],
   "source": [
    "class DataUnderstanding(object):\n",
    "    \"\"\"This is a class that does basic data understanding\"\"\"\n",
    "    def __init__(self, df):\n",
    "        self.shape = df.shape\n",
    "        self.info = df.info\n",
    "        self.duplicates = df.duplicated().sum()\n",
    "        self.missing = df.isna().sum()\n",
    "        self.types = df.dtypes"
   ]
  },
  {
   "cell_type": "code",
   "execution_count": 11,
   "id": "5850b010",
   "metadata": {},
   "outputs": [],
   "source": [
    "#instantiating the classes\n",
    "dataund= DataUnderstanding(df)"
   ]
  },
  {
   "cell_type": "code",
   "execution_count": 12,
   "id": "1a621565",
   "metadata": {},
   "outputs": [
    {
     "name": "stdout",
     "output_type": "stream",
     "text": [
      "shape:(43363, 6)\n"
     ]
    }
   ],
   "source": [
    "#Getting the shape of the dataset\n",
    "print(f\"shape:{dataund.shape}\")"
   ]
  },
  {
   "cell_type": "code",
   "execution_count": 13,
   "id": "aa2f6a7b",
   "metadata": {},
   "outputs": [
    {
     "name": "stdout",
     "output_type": "stream",
     "text": [
      "<class 'pandas.core.frame.DataFrame'>\n",
      "Int64Index: 43363 entries, 0 to 43055\n",
      "Data columns (total 6 columns):\n",
      " #   Column     Non-Null Count  Dtype  \n",
      "---  ------     --------------  -----  \n",
      " 0   Location   43363 non-null  object \n",
      " 1   Price      43363 non-null  object \n",
      " 2   Bedrooms   43361 non-null  float64\n",
      " 3   Bathrooms  43340 non-null  object \n",
      " 4   Toilets    261 non-null    float64\n",
      " 5   Parking    204 non-null    object \n",
      "dtypes: float64(2), object(4)\n",
      "memory usage: 2.3+ MB\n",
      "None\n"
     ]
    }
   ],
   "source": [
    "#getting the info of the data\n",
    "print(dataund.info())"
   ]
  },
  {
   "cell_type": "code",
   "execution_count": 14,
   "id": "b649f52c",
   "metadata": {},
   "outputs": [
    {
     "data": {
      "text/plain": [
       "Location         0\n",
       "Price            0\n",
       "Bedrooms         2\n",
       "Bathrooms       23\n",
       "Toilets      43102\n",
       "Parking      43159\n",
       "dtype: int64"
      ]
     },
     "execution_count": 14,
     "metadata": {},
     "output_type": "execute_result"
    }
   ],
   "source": [
    "#getting the missing values\n",
    "dataund.missing"
   ]
  },
  {
   "cell_type": "code",
   "execution_count": 15,
   "id": "772c2cc6",
   "metadata": {},
   "outputs": [
    {
     "data": {
      "text/plain": [
       "Location      object\n",
       "Price         object\n",
       "Bedrooms     float64\n",
       "Bathrooms     object\n",
       "Toilets      float64\n",
       "Parking       object\n",
       "dtype: object"
      ]
     },
     "execution_count": 15,
     "metadata": {},
     "output_type": "execute_result"
    }
   ],
   "source": [
    "#checking the data types\n",
    "dataund.types"
   ]
  },
  {
   "cell_type": "code",
   "execution_count": 16,
   "id": "3fe5a237",
   "metadata": {},
   "outputs": [
    {
     "name": "stdout",
     "output_type": "stream",
     "text": [
      "Duplicates:43041\n"
     ]
    }
   ],
   "source": [
    "#checking for duplicates\n",
    "print(f\"Duplicates:{dataund.duplicates.sum()}\")"
   ]
  },
  {
   "cell_type": "markdown",
   "id": "25b2f5a0",
   "metadata": {},
   "source": [
    "The duplicates are retainable because a house can have equal number of bedrooms, bathrooms, price and also can be located at the same place. "
   ]
  },
  {
   "cell_type": "markdown",
   "id": "b20c2d4d",
   "metadata": {},
   "source": [
    "## Data Preparation "
   ]
  },
  {
   "cell_type": "markdown",
   "id": "177173d2",
   "metadata": {},
   "source": [
    "#### Dealing with missing values"
   ]
  },
  {
   "cell_type": "code",
   "execution_count": 17,
   "id": "bdbd4aca",
   "metadata": {},
   "outputs": [],
   "source": [
    "# Dropping toilets and parking columns out of their huge number of missing values\n",
    "df.drop(['Toilets','Parking'], axis = 1, inplace = True)"
   ]
  },
  {
   "cell_type": "code",
   "execution_count": 18,
   "id": "0e3b2064",
   "metadata": {},
   "outputs": [],
   "source": [
    "# Filling the bedrooms columns with the mean\n",
    "df['Bedrooms'].fillna(df['Bedrooms'].mean(), inplace=True)"
   ]
  },
  {
   "cell_type": "code",
   "execution_count": 19,
   "id": "92aae2aa",
   "metadata": {},
   "outputs": [
    {
     "data": {
      "text/html": [
       "<div>\n",
       "<style scoped>\n",
       "    .dataframe tbody tr th:only-of-type {\n",
       "        vertical-align: middle;\n",
       "    }\n",
       "\n",
       "    .dataframe tbody tr th {\n",
       "        vertical-align: top;\n",
       "    }\n",
       "\n",
       "    .dataframe thead th {\n",
       "        text-align: right;\n",
       "    }\n",
       "</style>\n",
       "<table border=\"1\" class=\"dataframe\">\n",
       "  <thead>\n",
       "    <tr style=\"text-align: right;\">\n",
       "      <th></th>\n",
       "      <th>Location</th>\n",
       "      <th>Price</th>\n",
       "      <th>Bedrooms</th>\n",
       "      <th>Bathrooms</th>\n",
       "    </tr>\n",
       "  </thead>\n",
       "  <tbody>\n",
       "    <tr>\n",
       "      <th>0</th>\n",
       "      <td>Runda</td>\n",
       "      <td>100,000,000</td>\n",
       "      <td>5</td>\n",
       "      <td>5.0</td>\n",
       "    </tr>\n",
       "    <tr>\n",
       "      <th>1</th>\n",
       "      <td>Kileleshwa</td>\n",
       "      <td>27,500,000</td>\n",
       "      <td>4</td>\n",
       "      <td>5.0</td>\n",
       "    </tr>\n",
       "    <tr>\n",
       "      <th>2</th>\n",
       "      <td>Ruai</td>\n",
       "      <td>7,800,000</td>\n",
       "      <td>5</td>\n",
       "      <td>4.0</td>\n",
       "    </tr>\n",
       "    <tr>\n",
       "      <th>3</th>\n",
       "      <td>Karen</td>\n",
       "      <td>75,500,000</td>\n",
       "      <td>5</td>\n",
       "      <td>5.0</td>\n",
       "    </tr>\n",
       "    <tr>\n",
       "      <th>4</th>\n",
       "      <td>Haven</td>\n",
       "      <td>120,000,000</td>\n",
       "      <td>4</td>\n",
       "      <td>4.0</td>\n",
       "    </tr>\n",
       "    <tr>\n",
       "      <th>...</th>\n",
       "      <td>...</td>\n",
       "      <td>...</td>\n",
       "      <td>...</td>\n",
       "      <td>...</td>\n",
       "    </tr>\n",
       "    <tr>\n",
       "      <th>43051</th>\n",
       "      <td>Nairobi</td>\n",
       "      <td>48,000,000</td>\n",
       "      <td>4</td>\n",
       "      <td>4</td>\n",
       "    </tr>\n",
       "    <tr>\n",
       "      <th>43052</th>\n",
       "      <td>Nairobi</td>\n",
       "      <td>65,000,000</td>\n",
       "      <td>4</td>\n",
       "      <td>4</td>\n",
       "    </tr>\n",
       "    <tr>\n",
       "      <th>43053</th>\n",
       "      <td>Nairobi</td>\n",
       "      <td>70,000,000</td>\n",
       "      <td>5</td>\n",
       "      <td>5</td>\n",
       "    </tr>\n",
       "    <tr>\n",
       "      <th>43054</th>\n",
       "      <td>Nairobi</td>\n",
       "      <td>400,000,000</td>\n",
       "      <td>4</td>\n",
       "      <td>5</td>\n",
       "    </tr>\n",
       "    <tr>\n",
       "      <th>43055</th>\n",
       "      <td>Nairobi</td>\n",
       "      <td>42,000,000</td>\n",
       "      <td>5</td>\n",
       "      <td>4</td>\n",
       "    </tr>\n",
       "  </tbody>\n",
       "</table>\n",
       "<p>43363 rows × 4 columns</p>\n",
       "</div>"
      ],
      "text/plain": [
       "         Location        Price  Bedrooms Bathrooms\n",
       "0           Runda  100,000,000         5       5.0\n",
       "1      Kileleshwa   27,500,000         4       5.0\n",
       "2            Ruai    7,800,000         5       4.0\n",
       "3           Karen   75,500,000         5       5.0\n",
       "4           Haven  120,000,000         4       4.0\n",
       "...           ...          ...       ...       ...\n",
       "43051     Nairobi   48,000,000         4        4 \n",
       "43052     Nairobi   65,000,000         4        4 \n",
       "43053     Nairobi   70,000,000         5        5 \n",
       "43054     Nairobi  400,000,000         4        5 \n",
       "43055     Nairobi   42,000,000         5        4 \n",
       "\n",
       "[43363 rows x 4 columns]"
      ]
     },
     "execution_count": 19,
     "metadata": {},
     "output_type": "execute_result"
    }
   ],
   "source": [
    "# Converting bedrooms into interger\n",
    "df['Bedrooms'] = df.Bedrooms.astype(int)\n",
    "df"
   ]
  },
  {
   "cell_type": "code",
   "execution_count": 20,
   "id": "309026d0",
   "metadata": {},
   "outputs": [],
   "source": [
    "# To convert the categorical values to numeric to help fill the null values\n",
    "df['Bathrooms'] = pd.to_numeric(df['Bathrooms'], errors='coerce')\n",
    "df['Bathrooms'] = df['Bathrooms'].fillna(0)"
   ]
  },
  {
   "cell_type": "code",
   "execution_count": 21,
   "id": "a73f1f64",
   "metadata": {},
   "outputs": [
    {
     "data": {
      "text/plain": [
       "0        5\n",
       "1        5\n",
       "2        4\n",
       "3        5\n",
       "4        4\n",
       "        ..\n",
       "43051    4\n",
       "43052    4\n",
       "43053    5\n",
       "43054    5\n",
       "43055    4\n",
       "Name: Bathrooms, Length: 43363, dtype: Int32"
      ]
     },
     "execution_count": 21,
     "metadata": {},
     "output_type": "execute_result"
    }
   ],
   "source": [
    "# converting to float and then to interger\n",
    "df['Bathrooms'].astype(np.float).astype(\"Int32\")"
   ]
  },
  {
   "cell_type": "code",
   "execution_count": 22,
   "id": "97517d6c",
   "metadata": {},
   "outputs": [
    {
     "data": {
      "text/html": [
       "<div>\n",
       "<style scoped>\n",
       "    .dataframe tbody tr th:only-of-type {\n",
       "        vertical-align: middle;\n",
       "    }\n",
       "\n",
       "    .dataframe tbody tr th {\n",
       "        vertical-align: top;\n",
       "    }\n",
       "\n",
       "    .dataframe thead th {\n",
       "        text-align: right;\n",
       "    }\n",
       "</style>\n",
       "<table border=\"1\" class=\"dataframe\">\n",
       "  <thead>\n",
       "    <tr style=\"text-align: right;\">\n",
       "      <th></th>\n",
       "      <th>Location</th>\n",
       "      <th>Price</th>\n",
       "      <th>Bedrooms</th>\n",
       "      <th>Bathrooms</th>\n",
       "    </tr>\n",
       "  </thead>\n",
       "  <tbody>\n",
       "    <tr>\n",
       "      <th>0</th>\n",
       "      <td>Runda</td>\n",
       "      <td>100,000,000</td>\n",
       "      <td>5</td>\n",
       "      <td>5</td>\n",
       "    </tr>\n",
       "    <tr>\n",
       "      <th>1</th>\n",
       "      <td>Kileleshwa</td>\n",
       "      <td>27,500,000</td>\n",
       "      <td>4</td>\n",
       "      <td>5</td>\n",
       "    </tr>\n",
       "    <tr>\n",
       "      <th>2</th>\n",
       "      <td>Ruai</td>\n",
       "      <td>7,800,000</td>\n",
       "      <td>5</td>\n",
       "      <td>4</td>\n",
       "    </tr>\n",
       "    <tr>\n",
       "      <th>3</th>\n",
       "      <td>Karen</td>\n",
       "      <td>75,500,000</td>\n",
       "      <td>5</td>\n",
       "      <td>5</td>\n",
       "    </tr>\n",
       "    <tr>\n",
       "      <th>4</th>\n",
       "      <td>Haven</td>\n",
       "      <td>120,000,000</td>\n",
       "      <td>4</td>\n",
       "      <td>4</td>\n",
       "    </tr>\n",
       "    <tr>\n",
       "      <th>...</th>\n",
       "      <td>...</td>\n",
       "      <td>...</td>\n",
       "      <td>...</td>\n",
       "      <td>...</td>\n",
       "    </tr>\n",
       "    <tr>\n",
       "      <th>43051</th>\n",
       "      <td>Nairobi</td>\n",
       "      <td>48,000,000</td>\n",
       "      <td>4</td>\n",
       "      <td>4</td>\n",
       "    </tr>\n",
       "    <tr>\n",
       "      <th>43052</th>\n",
       "      <td>Nairobi</td>\n",
       "      <td>65,000,000</td>\n",
       "      <td>4</td>\n",
       "      <td>4</td>\n",
       "    </tr>\n",
       "    <tr>\n",
       "      <th>43053</th>\n",
       "      <td>Nairobi</td>\n",
       "      <td>70,000,000</td>\n",
       "      <td>5</td>\n",
       "      <td>5</td>\n",
       "    </tr>\n",
       "    <tr>\n",
       "      <th>43054</th>\n",
       "      <td>Nairobi</td>\n",
       "      <td>400,000,000</td>\n",
       "      <td>4</td>\n",
       "      <td>5</td>\n",
       "    </tr>\n",
       "    <tr>\n",
       "      <th>43055</th>\n",
       "      <td>Nairobi</td>\n",
       "      <td>42,000,000</td>\n",
       "      <td>5</td>\n",
       "      <td>4</td>\n",
       "    </tr>\n",
       "  </tbody>\n",
       "</table>\n",
       "<p>43363 rows × 4 columns</p>\n",
       "</div>"
      ],
      "text/plain": [
       "         Location        Price  Bedrooms  Bathrooms\n",
       "0           Runda  100,000,000         5          5\n",
       "1      Kileleshwa   27,500,000         4          5\n",
       "2            Ruai    7,800,000         5          4\n",
       "3           Karen   75,500,000         5          5\n",
       "4           Haven  120,000,000         4          4\n",
       "...           ...          ...       ...        ...\n",
       "43051     Nairobi   48,000,000         4          4\n",
       "43052     Nairobi   65,000,000         4          4\n",
       "43053     Nairobi   70,000,000         5          5\n",
       "43054     Nairobi  400,000,000         4          5\n",
       "43055     Nairobi   42,000,000         5          4\n",
       "\n",
       "[43363 rows x 4 columns]"
      ]
     },
     "execution_count": 22,
     "metadata": {},
     "output_type": "execute_result"
    }
   ],
   "source": [
    "df['Bathrooms'] = df.Bathrooms.astype(int)\n",
    "df"
   ]
  },
  {
   "cell_type": "code",
   "execution_count": 23,
   "id": "91ca241f",
   "metadata": {},
   "outputs": [],
   "source": [
    "# Filling the missing values with the mean\n",
    "df['Bathrooms'].fillna(df['Bathrooms'].mean(), inplace=True)"
   ]
  },
  {
   "cell_type": "code",
   "execution_count": 24,
   "id": "b7e241ce",
   "metadata": {},
   "outputs": [
    {
     "data": {
      "text/plain": [
       "Location     0\n",
       "Price        0\n",
       "Bedrooms     0\n",
       "Bathrooms    0\n",
       "dtype: int64"
      ]
     },
     "execution_count": 24,
     "metadata": {},
     "output_type": "execute_result"
    }
   ],
   "source": [
    "# Checking for the successful filling \n",
    "df.isna().sum()"
   ]
  },
  {
   "cell_type": "code",
   "execution_count": 25,
   "id": "57e205eb",
   "metadata": {},
   "outputs": [],
   "source": [
    "# Removing the comma in prices \n",
    "# giving it a different name\n",
    "df['Price_Int'] = df['Price'].replace(',', '', regex=True).astype(np.float).astype(\"Int32\")"
   ]
  },
  {
   "cell_type": "code",
   "execution_count": 26,
   "id": "e3e8d714",
   "metadata": {},
   "outputs": [],
   "source": [
    "# Dropping the initial Price column\n",
    "df.drop('Price', axis=1, inplace=True)"
   ]
  },
  {
   "cell_type": "code",
   "execution_count": 27,
   "id": "5d5969f7",
   "metadata": {},
   "outputs": [],
   "source": [
    "# Renaming the new column\n",
    "df.rename(columns={'Price_Int': 'Price'}, inplace=True)"
   ]
  },
  {
   "cell_type": "code",
   "execution_count": 28,
   "id": "b0ae2795",
   "metadata": {},
   "outputs": [
    {
     "data": {
      "text/plain": [
       "Location     object\n",
       "Bedrooms      int32\n",
       "Bathrooms     int32\n",
       "Price         Int32\n",
       "dtype: object"
      ]
     },
     "execution_count": 28,
     "metadata": {},
     "output_type": "execute_result"
    }
   ],
   "source": [
    "# Checking the successive changes in types from objects to float and integers.\n",
    "df.dtypes"
   ]
  },
  {
   "cell_type": "markdown",
   "id": "22147424",
   "metadata": {},
   "source": [
    "#### Dealing with Outliers"
   ]
  },
  {
   "cell_type": "code",
   "execution_count": 29,
   "id": "a3b0c219",
   "metadata": {},
   "outputs": [
    {
     "data": {
      "image/png": "[encoded data removed]",
      "text/plain": [
       "<Figure size 432x288 with 1 Axes>"
      ]
     },
     "metadata": {
      "needs_background": "light"
     },
     "output_type": "display_data"
    }
   ],
   "source": [
    "df.boxplot(column=['Bedrooms'])\n",
    "plt.show()"
   ]
  },
  {
   "cell_type": "markdown",
   "id": "3c745ee6",
   "metadata": {},
   "source": [
    "The outliers in the bedrooms column is justifiable in that the house would be a rental house. In rental houses, one house could have several bedrooms that all add to the number present in the dataframe."
   ]
  },
  {
   "cell_type": "code",
   "execution_count": 30,
   "id": "54dd4b84",
   "metadata": {},
   "outputs": [
    {
     "data": {
      "image/png": "[encoded data removed]",
      "text/plain": [
       "<Figure size 432x288 with 1 Axes>"
      ]
     },
     "metadata": {
      "needs_background": "light"
     },
     "output_type": "display_data"
    }
   ],
   "source": [
    "df.boxplot(column=['Bathrooms'])\n",
    "plt.show()"
   ]
  },
  {
   "cell_type": "markdown",
   "id": "c3138988",
   "metadata": {},
   "source": [
    "The outliers in the bathroom column is justifiable in that the house would be a rental house. In rental houses, one house could have several bathrooms that all add to the huge number present in the dataframe. "
   ]
  },
  {
   "cell_type": "code",
   "execution_count": 31,
   "id": "017d587d",
   "metadata": {},
   "outputs": [
    {
     "data": {
      "image/png": "[encoded data removed]",
      "text/plain": [
       "<Figure size 432x288 with 1 Axes>"
      ]
     },
     "metadata": {
      "needs_background": "light"
     },
     "output_type": "display_data"
    }
   ],
   "source": [
    "df.boxplot(column=['Price'])\n",
    "plt.show()"
   ]
  },
  {
   "cell_type": "markdown",
   "id": "021408df",
   "metadata": {},
   "source": [
    "The variance in the price is justifiable in that some buldings are much worth than others. Otherwise, their variance would come about since the number of bedrooms and bathrooms in this dataframe could be for rental houses. These assets are likely to cost higher since they are income generating assets and much worth in terms of amount invested relative to the other houses. "
   ]
  },
  {
   "cell_type": "markdown",
   "id": "eada59ef",
   "metadata": {},
   "source": [
    "#### Exploratory Data Analysis "
   ]
  },
  {
   "cell_type": "code",
   "execution_count": 32,
   "id": "5df3a4ca",
   "metadata": {},
   "outputs": [],
   "source": [
    "# EDA class\n",
    "class EdaAnalysis:\n",
    "    \n",
    "    def univariate(self,df,col1):\n",
    "        \"\"\" A function that does univariate analysis\"\"\"\n",
    "        plt.figure(figsize=(16,8))\n",
    "        sns.countplot(x=col1,data=df)\n",
    "        plt.title(f'Number of Houses per {col1}')\n",
    "        plt.xlabel(col1)\n",
    "        plt.xticks(rotation=45)\n",
    "        plt.show()\n",
    "        \n",
    "    def bivariate(self,df,col1, col2):\n",
    "        \"\"\" A function that does bivariate analysis\"\"\"\n",
    "        plt.figure(figsize=(16,8))\n",
    "        sns.countplot(x=col1, data= df,hue=col2)\n",
    "        plt.title(f'{col1} on {col2}')\n",
    "        plt.ylabel(f'count of{col1}')\n",
    "        plt.show();\n",
    "        \n",
    "    def multivariate_analysis(self, df):\n",
    "      \n",
    "        \"\"\"Perform multivariate analysis on the data\"\"\"\n",
    "        # Calculate the pairwise Pearson correlation coefficients for all columns\n",
    "        corr_matrix = df.corr()\n",
    "        # Plot a heatmap to visualize the correlations\n",
    "        sns.heatmap(corr_matrix)\n",
    "        plt.show();"
   ]
  },
  {
   "cell_type": "code",
   "execution_count": 33,
   "id": "bc188a6b",
   "metadata": {},
   "outputs": [],
   "source": [
    "# Instantiation \n",
    "graph = EdaAnalysis()"
   ]
  },
  {
   "cell_type": "markdown",
   "id": "a81f8b86",
   "metadata": {},
   "source": [
    "#### Univariate Analysis"
   ]
  },
  {
   "cell_type": "code",
   "execution_count": 34,
   "id": "0101e21f",
   "metadata": {},
   "outputs": [
    {
     "data": {
      "image/png": "[encoded data removed]",
      "text/plain": [
       "<Figure size 1152x576 with 1 Axes>"
      ]
     },
     "metadata": {
      "needs_background": "light"
     },
     "output_type": "display_data"
    }
   ],
   "source": [
    "graph.univariate(df, 'Bedrooms')"
   ]
  },
  {
   "cell_type": "markdown",
   "id": "337d4655",
   "metadata": {},
   "source": [
    "5 bedrooms, 4 bedrooms and 3 bedrooms are the majority in this dataset with counts of 23,451, 14,457, and 5,408 respectively."
   ]
  },
  {
   "cell_type": "code",
   "execution_count": 35,
   "id": "e5d8fa9b",
   "metadata": {},
   "outputs": [
    {
     "data": {
      "image/png": "[encoded data removed]",
      "text/plain": [
       "<Figure size 1152x576 with 1 Axes>"
      ]
     },
     "metadata": {
      "needs_background": "light"
     },
     "output_type": "display_data"
    }
   ],
   "source": [
    "graph.univariate(df, 'Bathrooms')"
   ]
  },
  {
   "cell_type": "markdown",
   "id": "76d48637",
   "metadata": {},
   "source": [
    "5 bathrooms, 4 bathrooms and 3 bathrooms houses are the majority in this dataset with counts of 16,236, 12,604, and 5,401 respectively."
   ]
  },
  {
   "cell_type": "code",
   "execution_count": 61,
   "id": "f164588d",
   "metadata": {},
   "outputs": [
    {
     "data": {
      "text/plain": [
       "3500000"
      ]
     },
     "execution_count": 61,
     "metadata": {},
     "output_type": "execute_result"
    }
   ],
   "source": [
    "min(df['Price'])"
   ]
  },
  {
   "cell_type": "code",
   "execution_count": 36,
   "id": "86723d5d",
   "metadata": {},
   "outputs": [
    {
     "data": {
      "text/plain": [
       "650000000"
      ]
     },
     "execution_count": 36,
     "metadata": {},
     "output_type": "execute_result"
    }
   ],
   "source": [
    "max(df['Price'])"
   ]
  },
  {
   "cell_type": "code",
   "execution_count": 37,
   "id": "129627bc",
   "metadata": {},
   "outputs": [],
   "source": [
    "col = 'Price'\n",
    "\n",
    "# Create the bins\n",
    "bins = [0, 100000000, 200000000, 300000000, 400000000, 500000000, 600000000, 700000000]\n",
    "\n",
    "# Create the names for the bins\n",
    "names = ['0-100,000,000', '100,000,001-200,000,000', '200,000,001-300,000,000', '300,000,001-400,000,000', \n",
    "         '400,000,001-500,000,000', '500,000,001-600,000,000', '600,000,001-70,0000,000']\n",
    "\n",
    "# Bin the data\n",
    "df['Prices_binned'] = pd.cut(df[col], bins, labels=names)"
   ]
  },
  {
   "cell_type": "code",
   "execution_count": 38,
   "id": "007364fb",
   "metadata": {},
   "outputs": [
    {
     "data": {
      "image/png": "[encoded data removed]",
      "text/plain": [
       "<Figure size 1152x576 with 1 Axes>"
      ]
     },
     "metadata": {
      "needs_background": "light"
     },
     "output_type": "display_data"
    }
   ],
   "source": [
    "graph.univariate(df, 'Prices_binned')"
   ]
  },
  {
   "cell_type": "markdown",
   "id": "ff3a4d22",
   "metadata": {},
   "source": [
    "#### Multivariate Analysis "
   ]
  },
  {
   "cell_type": "code",
   "execution_count": 42,
   "id": "e10afa39",
   "metadata": {},
   "outputs": [
    {
     "data": {
      "image/png": "[encoded data removed]",
      "text/plain": [
       "<Figure size 432x288 with 2 Axes>"
      ]
     },
     "metadata": {
      "needs_background": "light"
     },
     "output_type": "display_data"
    }
   ],
   "source": [
    "corr_matrix = df.corr()\n",
    "sns.heatmap(corr_matrix, annot=True, cmap='YlGnBu');"
   ]
  },
  {
   "cell_type": "markdown",
   "id": "d74fa3ba",
   "metadata": {},
   "source": [
    "There is less correlation among the variables used in this case. Hence, no sensible Bivariate analysis could be made from this data. "
   ]
  },
  {
   "cell_type": "markdown",
   "id": "1930d29e",
   "metadata": {},
   "source": [
    "#### Pre Processing "
   ]
  },
  {
   "cell_type": "markdown",
   "id": "5de5a977",
   "metadata": {},
   "source": [
    "#### Feature Engineering\n",
    "\n",
    "Feature engineering is the process of extracting features from the data and transforming them into a format that is suitable for the machine learning model."
   ]
  },
  {
   "cell_type": "code",
   "execution_count": 44,
   "id": "088d983b",
   "metadata": {},
   "outputs": [],
   "source": [
    "# Choosing neccessary columns for modelling.\n",
    "ModellingData = df[['Bedrooms','Bathrooms','Price']]"
   ]
  },
  {
   "cell_type": "markdown",
   "id": "f790db6f",
   "metadata": {},
   "source": [
    "#### Normalization\n",
    "Data Normalization is a common practice in machine learning which consists of translating data into the range [0, 1] or simply transforming data onto the unit sphere.\n",
    "\n",
    "If the features are scaled differently, some features may have a greater impact on the model than others. We frequently normalize all features to a constant scale of 0 to 1 to level the playing field."
   ]
  },
  {
   "cell_type": "code",
   "execution_count": 45,
   "id": "ab0bf60c",
   "metadata": {},
   "outputs": [
    {
     "data": {
      "text/html": [
       "<div>\n",
       "<style scoped>\n",
       "    .dataframe tbody tr th:only-of-type {\n",
       "        vertical-align: middle;\n",
       "    }\n",
       "\n",
       "    .dataframe tbody tr th {\n",
       "        vertical-align: top;\n",
       "    }\n",
       "\n",
       "    .dataframe thead th {\n",
       "        text-align: right;\n",
       "    }\n",
       "</style>\n",
       "<table border=\"1\" class=\"dataframe\">\n",
       "  <thead>\n",
       "    <tr style=\"text-align: right;\">\n",
       "      <th></th>\n",
       "      <th>Bedrooms</th>\n",
       "      <th>Bathrooms</th>\n",
       "      <th>Price</th>\n",
       "    </tr>\n",
       "  </thead>\n",
       "  <tbody>\n",
       "    <tr>\n",
       "      <th>0</th>\n",
       "      <td>0.214286</td>\n",
       "      <td>0.014706</td>\n",
       "      <td>0.149265</td>\n",
       "    </tr>\n",
       "    <tr>\n",
       "      <th>1</th>\n",
       "      <td>0.142857</td>\n",
       "      <td>0.014706</td>\n",
       "      <td>0.037123</td>\n",
       "    </tr>\n",
       "    <tr>\n",
       "      <th>2</th>\n",
       "      <td>0.214286</td>\n",
       "      <td>0.011765</td>\n",
       "      <td>0.006651</td>\n",
       "    </tr>\n",
       "    <tr>\n",
       "      <th>3</th>\n",
       "      <td>0.214286</td>\n",
       "      <td>0.014706</td>\n",
       "      <td>0.111369</td>\n",
       "    </tr>\n",
       "    <tr>\n",
       "      <th>4</th>\n",
       "      <td>0.142857</td>\n",
       "      <td>0.011765</td>\n",
       "      <td>0.180201</td>\n",
       "    </tr>\n",
       "    <tr>\n",
       "      <th>...</th>\n",
       "      <td>...</td>\n",
       "      <td>...</td>\n",
       "      <td>...</td>\n",
       "    </tr>\n",
       "    <tr>\n",
       "      <th>43051</th>\n",
       "      <td>0.142857</td>\n",
       "      <td>0.011765</td>\n",
       "      <td>0.068832</td>\n",
       "    </tr>\n",
       "    <tr>\n",
       "      <th>43052</th>\n",
       "      <td>0.142857</td>\n",
       "      <td>0.011765</td>\n",
       "      <td>0.095128</td>\n",
       "    </tr>\n",
       "    <tr>\n",
       "      <th>43053</th>\n",
       "      <td>0.214286</td>\n",
       "      <td>0.014706</td>\n",
       "      <td>0.102862</td>\n",
       "    </tr>\n",
       "    <tr>\n",
       "      <th>43054</th>\n",
       "      <td>0.142857</td>\n",
       "      <td>0.014706</td>\n",
       "      <td>0.613302</td>\n",
       "    </tr>\n",
       "    <tr>\n",
       "      <th>43055</th>\n",
       "      <td>0.214286</td>\n",
       "      <td>0.011765</td>\n",
       "      <td>0.059551</td>\n",
       "    </tr>\n",
       "  </tbody>\n",
       "</table>\n",
       "<p>43363 rows × 3 columns</p>\n",
       "</div>"
      ],
      "text/plain": [
       "       Bedrooms  Bathrooms     Price\n",
       "0      0.214286   0.014706  0.149265\n",
       "1      0.142857   0.014706  0.037123\n",
       "2      0.214286   0.011765  0.006651\n",
       "3      0.214286   0.014706  0.111369\n",
       "4      0.142857   0.011765  0.180201\n",
       "...         ...        ...       ...\n",
       "43051  0.142857   0.011765  0.068832\n",
       "43052  0.142857   0.011765  0.095128\n",
       "43053  0.214286   0.014706  0.102862\n",
       "43054  0.142857   0.014706  0.613302\n",
       "43055  0.214286   0.011765  0.059551\n",
       "\n",
       "[43363 rows x 3 columns]"
      ]
     },
     "execution_count": 45,
     "metadata": {},
     "output_type": "execute_result"
    }
   ],
   "source": [
    "from sklearn.preprocessing import MinMaxScaler\n",
    "\n",
    "scaler = MinMaxScaler()\n",
    "\n",
    "scaler.fit(ModellingData)\n",
    "Normalized = pd.DataFrame(\n",
    "    scaler.transform(ModellingData),\n",
    "    # index is important to ensure we can concatenate with other columns\n",
    "    index=ModellingData.index,\n",
    "    columns=ModellingData.columns\n",
    ")\n",
    "Normalized"
   ]
  },
  {
   "cell_type": "markdown",
   "id": "c8dbf633",
   "metadata": {},
   "source": [
    "Most machine learning algorithms require numerical values; therefore, all categorical attributes available in the dataset should be encoded into numerical labels before training the model. For this case, there are no categorical values apart from the Location column. There is no distinct naming of the various regions in Nairobi county with the majority of the locations names as 'Nairobi'. Thus, this project generalizes the column as Nairobi and does not use it in modelling. "
   ]
  },
  {
   "cell_type": "code",
   "execution_count": 46,
   "id": "5e73d6f1",
   "metadata": {},
   "outputs": [],
   "source": [
    "#To start out, we'll consider y to be the target variable and everything else to be X.\n",
    "y = Normalized['Price']\n",
    "X = Normalized[['Bedrooms','Bathrooms']]"
   ]
  },
  {
   "cell_type": "markdown",
   "id": "f5335f62",
   "metadata": {},
   "source": [
    "#### Train_Test Split\n",
    "The first step when building a model is to split the data into two groups, which are typically referred to as training and testing sets. The training set is used by the machine learning algorithm to build the model.\n",
    "\n",
    "The test set contains samples that are not part of the learning process and is used to evaluate the model’s performance. It is important to assess the quality of the model using unseen data to guarantee an objective evaluation."
   ]
  },
  {
   "cell_type": "code",
   "execution_count": 47,
   "id": "0f119b4f",
   "metadata": {},
   "outputs": [],
   "source": [
    "# Create Train & Test Data\n",
    "from sklearn.model_selection import train_test_split\n",
    "X_train, X_test, y_train, y_test = train_test_split(X, y,test_size=0.25, random_state=1)"
   ]
  },
  {
   "cell_type": "markdown",
   "id": "8a3a5740",
   "metadata": {},
   "source": [
    "Specifying a random_state means that we will get consistent results even if the kernel is restarted."
   ]
  },
  {
   "cell_type": "markdown",
   "id": "a37d8d2d",
   "metadata": {},
   "source": [
    "#### Modelling"
   ]
  },
  {
   "cell_type": "markdown",
   "id": "ce1af135",
   "metadata": {},
   "source": [
    "#### 1. Linear Regression"
   ]
  },
  {
   "cell_type": "code",
   "execution_count": 53,
   "id": "ea54feba",
   "metadata": {},
   "outputs": [
    {
     "name": "stdout",
     "output_type": "stream",
     "text": [
      "Mean Squared Error: 0.015435524380277978\n"
     ]
    }
   ],
   "source": [
    "import statsmodels.api as sm\n",
    "\n",
    "# Add a constant term to the input data for the intercept\n",
    "X_train = sm.add_constant(X_train)\n",
    "X_test = sm.add_constant(X_test)\n",
    "\n",
    "# Fit the OLS model\n",
    "model = sm.OLS(y_train, X_train)\n",
    "result = model.fit()\n",
    "\n",
    "\n",
    "# Predict on the test set\n",
    "y_pred = result.predict(X_test)\n",
    "\n",
    "# Print the mean squared error\n",
    "from sklearn.metrics import mean_squared_error\n",
    "print(\"Mean Squared Error:\", mean_squared_error(y_test, y_pred))"
   ]
  },
  {
   "cell_type": "markdown",
   "id": "2c2517f6",
   "metadata": {},
   "source": [
    "#### 2.Random Forest"
   ]
  },
  {
   "cell_type": "code",
   "execution_count": 49,
   "id": "a0226b48",
   "metadata": {},
   "outputs": [
    {
     "name": "stdout",
     "output_type": "stream",
     "text": [
      "Mean Squared Error: 0.008393458932491514\n"
     ]
    }
   ],
   "source": [
    "from sklearn.ensemble import RandomForestRegressor\n",
    "\n",
    "# Train the random forest regressor\n",
    "regr = RandomForestRegressor(n_estimators=100)\n",
    "regr.fit(X_train, y_train)\n",
    "\n",
    "# Predict on the test set\n",
    "y_pred = regr.predict(X_test)\n",
    "\n",
    "# Print the mean squared error\n",
    "from sklearn.metrics import mean_squared_error\n",
    "print(\"Mean Squared Error:\", mean_squared_error(y_test, y_pred))"
   ]
  },
  {
   "cell_type": "markdown",
   "id": "8862e634",
   "metadata": {},
   "source": [
    "#### 3. Decision Tree"
   ]
  },
  {
   "cell_type": "code",
   "execution_count": 50,
   "id": "dd7b31a3",
   "metadata": {},
   "outputs": [
    {
     "name": "stdout",
     "output_type": "stream",
     "text": [
      "Mean Squared Error: 0.008466393435542023\n"
     ]
    }
   ],
   "source": [
    "from sklearn.tree import DecisionTreeRegressor\n",
    "\n",
    "# Train the decision tree regressor\n",
    "regressor = DecisionTreeRegressor()\n",
    "regressor.fit(X_train, y_train)\n",
    "\n",
    "# Predict on the test set\n",
    "y_pred = regressor.predict(X_test)\n",
    "\n",
    "# Print the mean squared error\n",
    "from sklearn.metrics import mean_squared_error\n",
    "print(\"Mean Squared Error:\", mean_squared_error(y_test, y_pred))"
   ]
  },
  {
   "cell_type": "markdown",
   "id": "37a33519",
   "metadata": {},
   "source": [
    "#### 4. Xgboost"
   ]
  },
  {
   "cell_type": "code",
   "execution_count": 51,
   "id": "27ff5563",
   "metadata": {},
   "outputs": [
    {
     "name": "stdout",
     "output_type": "stream",
     "text": [
      "Mean Squared Error: 0.008415473728763487\n"
     ]
    }
   ],
   "source": [
    "import xgboost as xgb\n",
    "\n",
    "# Define the XGBoost model\n",
    "xgb_model = xgb.XGBRegressor()\n",
    "\n",
    "# Train the model\n",
    "xgb_model.fit(X_train, y_train)\n",
    "\n",
    "# Predict on the test set\n",
    "y_pred = xgb_model.predict(X_test)\n",
    "\n",
    "# Print the mean squared error\n",
    "from sklearn.metrics import mean_squared_error\n",
    "print(\"Mean Squared Error:\", mean_squared_error(y_test, y_pred))"
   ]
  },
  {
   "cell_type": "markdown",
   "id": "fa557ef6",
   "metadata": {},
   "source": [
    "#### 5.Gradient Boost"
   ]
  },
  {
   "cell_type": "code",
   "execution_count": 52,
   "id": "8f5e60fc",
   "metadata": {},
   "outputs": [
    {
     "name": "stdout",
     "output_type": "stream",
     "text": [
      "Mean Squared Error: 0.008390715963337307\n"
     ]
    }
   ],
   "source": [
    "from sklearn.ensemble import GradientBoostingRegressor\n",
    "\n",
    "# Define the gradient boosting model\n",
    "gb_model = GradientBoostingRegressor(n_estimators=100,\n",
    "                                     learning_rate=0.1,\n",
    "                                     max_depth=3)\n",
    "\n",
    "# Train the model\n",
    "gb_model.fit(X_train, y_train)\n",
    "\n",
    "# Predict on the test set\n",
    "y_pred = gb_model.predict(X_test)\n",
    "\n",
    "# Print the mean squared error\n",
    "from sklearn.metrics import mean_squared_error\n",
    "print(\"Mean Squared Error:\", mean_squared_error(y_test, y_pred))"
   ]
  },
  {
   "cell_type": "markdown",
   "id": "a2e10641",
   "metadata": {},
   "source": [
    "#### Best Model Parameter Tuning\n",
    "\n",
    "Here, the gradient boosting is the best parameter, It is subjected to hyper parameter tuning to check whether it gets better. "
   ]
  },
  {
   "cell_type": "code",
   "execution_count": 55,
   "id": "1d15e080",
   "metadata": {},
   "outputs": [
    {
     "name": "stdout",
     "output_type": "stream",
     "text": [
      "Best parameters: {'learning_rate': 0.05, 'max_depth': 4, 'n_estimators': 100}\n",
      "Mean Squared Error: 0.008577223061933875\n",
      "Test Set Mean Squared Error: 0.008394843314460426\n"
     ]
    }
   ],
   "source": [
    "# Define the parameter grid\n",
    "param_grid = {'n_estimators': [50, 100, 200],\n",
    "              'learning_rate': [0.05, 0.1, 0.2],\n",
    "              'max_depth': [2, 3, 4]}\n",
    "\n",
    "# Define the gradient boosting model\n",
    "gb_model = GradientBoostingRegressor()\n",
    "\n",
    "# Create the grid search object\n",
    "grid_search = GridSearchCV(gb_model, param_grid, cv=5, scoring='neg_mean_squared_error')\n",
    "\n",
    "# Fit the grid search to the data\n",
    "grid_search.fit(X_train, y_train)\n",
    "\n",
    "# Print the best parameters and the corresponding mean squared error\n",
    "print(\"Best parameters:\", grid_search.best_params_)\n",
    "print(\"Mean Squared Error:\", -grid_search.best_score_)\n",
    "\n",
    "# Predict on the test set using the best parameters\n",
    "y_pred = grid_search.predict(X_test)\n",
    "print(\"Test Set Mean Squared Error:\", mean_squared_error(y_test, y_pred))\n"
   ]
  },
  {
   "cell_type": "code",
   "execution_count": 56,
   "id": "af2b309d",
   "metadata": {},
   "outputs": [
    {
     "name": "stdout",
     "output_type": "stream",
     "text": [
      "Mean Squared Error: 0.008394261665367926\n"
     ]
    }
   ],
   "source": [
    "# Define the gradient boosting model with the best parameters\n",
    "gb_model_best = GradientBoostingRegressor(**grid_search.best_params_)\n",
    "\n",
    "# Fit the model to the training data\n",
    "gb_model_best.fit(X_train, y_train)\n",
    "\n",
    "# Predict on the test set\n",
    "y_pred = gb_model_best.predict(X_test)\n",
    "\n",
    "# Print the mean squared error\n",
    "from sklearn.metrics import mean_squared_error\n",
    "print(\"Mean Squared Error:\", mean_squared_error(y_test, y_pred))\n"
   ]
  },
  {
   "cell_type": "markdown",
   "id": "b54b6eb3",
   "metadata": {},
   "source": [
    "The model gets no better after hyper parameter tuning, so we stick with the initial model"
   ]
  },
  {
   "cell_type": "markdown",
   "id": "6579ff44",
   "metadata": {},
   "source": [
    "### Model Evaluation "
   ]
  },
  {
   "cell_type": "markdown",
   "id": "49f986c1",
   "metadata": {},
   "source": [
    "Since this case represents a regression problem, it uses the mean squared error(MSE) as the metric of success. The model with the lowest MSE is most preffered, the gradient boost. Adjusting the hyper parameters finds out whether the model can be bettered but in this case, the efforts are futile. Thus, the initial model is most preffered. "
   ]
  },
  {
   "cell_type": "markdown",
   "id": "1ac6952f",
   "metadata": {},
   "source": [
    "### Saving the model \n",
    "The essence of saving a model is to be able to reuse it later without having to retrain it. "
   ]
  },
  {
   "cell_type": "code",
   "execution_count": 60,
   "id": "ef84ba3f",
   "metadata": {},
   "outputs": [],
   "source": [
    "import pickle\n",
    "\n",
    "# Save the model to a file\n",
    "with open('gb_model.pkl', 'wb') as file:\n",
    "    pickle.dump(gb_model, file)\n"
   ]
  },
  {
   "cell_type": "code",
   "execution_count": null,
   "id": "2b98b2fd",
   "metadata": {},
   "outputs": [],
   "source": []
  }
 ],
 "metadata": {
  "kernelspec": {
   "display_name": "Python 3 (ipykernel)",
   "language": "python",
   "name": "python3"
  },
  "language_info": {
   "codemirror_mode": {
    "name": "ipython",
    "version": 3
   },
   "file_extension": ".py",
   "mimetype": "text/x-python",
   "name": "python",
   "nbconvert_exporter": "python",
   "pygments_lexer": "ipython3",
   "version": "3.9.12"
  }
 },
 "nbformat": 4,
 "nbformat_minor": 5
}
