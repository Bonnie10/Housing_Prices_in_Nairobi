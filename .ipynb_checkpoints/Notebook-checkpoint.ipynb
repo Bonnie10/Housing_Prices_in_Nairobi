{
 "cells": [
  {
   "cell_type": "code",
   "execution_count": null,
   "id": "8b832596",
   "metadata": {},
   "outputs": [],
   "source": []
  },
  {
   "cell_type": "code",
   "execution_count": 1,
   "id": "771b2a42",
   "metadata": {},
   "outputs": [],
   "source": [
    "import pandas as pd\n",
    "import numpy as np\n",
    "import warnings\n",
    "warnings.filterwarnings(\"ignore\")\n",
    "import matplotlib.pyplot as plt\n",
    "import seaborn as sns\n",
    "\n",
    "# uploading the first dataframe\n",
    "df1 = pd.read_csv('df.csv')"
   ]
  },
  {
   "cell_type": "code",
   "execution_count": 2,
   "id": "53968bfc",
   "metadata": {},
   "outputs": [
    {
     "data": {
      "text/html": [
       "<div>\n",
       "<style scoped>\n",
       "    .dataframe tbody tr th:only-of-type {\n",
       "        vertical-align: middle;\n",
       "    }\n",
       "\n",
       "    .dataframe tbody tr th {\n",
       "        vertical-align: top;\n",
       "    }\n",
       "\n",
       "    .dataframe thead th {\n",
       "        text-align: right;\n",
       "    }\n",
       "</style>\n",
       "<table border=\"1\" class=\"dataframe\">\n",
       "  <thead>\n",
       "    <tr style=\"text-align: right;\">\n",
       "      <th></th>\n",
       "      <th>Location</th>\n",
       "      <th>Price</th>\n",
       "      <th>Bedrooms</th>\n",
       "      <th>Bathrooms</th>\n",
       "      <th>Toilets</th>\n",
       "      <th>Parking</th>\n",
       "    </tr>\n",
       "  </thead>\n",
       "  <tbody>\n",
       "    <tr>\n",
       "      <th>0</th>\n",
       "      <td>Runda</td>\n",
       "      <td>100,000,000</td>\n",
       "      <td>5.0</td>\n",
       "      <td>5.0</td>\n",
       "      <td>NaN</td>\n",
       "      <td>NaN</td>\n",
       "    </tr>\n",
       "    <tr>\n",
       "      <th>1</th>\n",
       "      <td>Kileleshwa</td>\n",
       "      <td>27,500,000</td>\n",
       "      <td>4.0</td>\n",
       "      <td>5.0</td>\n",
       "      <td>5.0</td>\n",
       "      <td>NaN</td>\n",
       "    </tr>\n",
       "    <tr>\n",
       "      <th>2</th>\n",
       "      <td>Ruai</td>\n",
       "      <td>7,800,000</td>\n",
       "      <td>5.0</td>\n",
       "      <td>4.0</td>\n",
       "      <td>5.0</td>\n",
       "      <td>2</td>\n",
       "    </tr>\n",
       "    <tr>\n",
       "      <th>3</th>\n",
       "      <td>Karen</td>\n",
       "      <td>75,500,000</td>\n",
       "      <td>5.0</td>\n",
       "      <td>5.0</td>\n",
       "      <td>NaN</td>\n",
       "      <td>NaN</td>\n",
       "    </tr>\n",
       "    <tr>\n",
       "      <th>4</th>\n",
       "      <td>Haven</td>\n",
       "      <td>120,000,000</td>\n",
       "      <td>4.0</td>\n",
       "      <td>4.0</td>\n",
       "      <td>4.0</td>\n",
       "      <td>4</td>\n",
       "    </tr>\n",
       "    <tr>\n",
       "      <th>...</th>\n",
       "      <td>...</td>\n",
       "      <td>...</td>\n",
       "      <td>...</td>\n",
       "      <td>...</td>\n",
       "      <td>...</td>\n",
       "      <td>...</td>\n",
       "    </tr>\n",
       "    <tr>\n",
       "      <th>302</th>\n",
       "      <td>Kilimani</td>\n",
       "      <td>26,000,000</td>\n",
       "      <td>3.0</td>\n",
       "      <td>NaN</td>\n",
       "      <td>NaN</td>\n",
       "      <td>NaN</td>\n",
       "    </tr>\n",
       "    <tr>\n",
       "      <th>303</th>\n",
       "      <td>Kilimani</td>\n",
       "      <td>25,000,000</td>\n",
       "      <td>NaN</td>\n",
       "      <td>NaN</td>\n",
       "      <td>NaN</td>\n",
       "      <td>NaN</td>\n",
       "    </tr>\n",
       "    <tr>\n",
       "      <th>304</th>\n",
       "      <td>Kihingo</td>\n",
       "      <td>165,000,000</td>\n",
       "      <td>4.0</td>\n",
       "      <td>5.0</td>\n",
       "      <td>NaN</td>\n",
       "      <td>NaN</td>\n",
       "    </tr>\n",
       "    <tr>\n",
       "      <th>305</th>\n",
       "      <td>Chalbi Drive</td>\n",
       "      <td>66,000,000</td>\n",
       "      <td>4.0</td>\n",
       "      <td>5.0</td>\n",
       "      <td>NaN</td>\n",
       "      <td>NaN</td>\n",
       "    </tr>\n",
       "    <tr>\n",
       "      <th>306</th>\n",
       "      <td>House No 21</td>\n",
       "      <td>120,000,000</td>\n",
       "      <td>10.0</td>\n",
       "      <td>10.0</td>\n",
       "      <td>NaN</td>\n",
       "      <td>NaN</td>\n",
       "    </tr>\n",
       "  </tbody>\n",
       "</table>\n",
       "<p>307 rows × 6 columns</p>\n",
       "</div>"
      ],
      "text/plain": [
       "         Location        Price  Bedrooms  Bathrooms  Toilets Parking\n",
       "0           Runda  100,000,000       5.0        5.0      NaN     NaN\n",
       "1      Kileleshwa   27,500,000       4.0        5.0      5.0     NaN\n",
       "2            Ruai    7,800,000       5.0        4.0      5.0       2\n",
       "3           Karen   75,500,000       5.0        5.0      NaN     NaN\n",
       "4           Haven  120,000,000       4.0        4.0      4.0       4\n",
       "..            ...          ...       ...        ...      ...     ...\n",
       "302      Kilimani   26,000,000       3.0        NaN      NaN     NaN\n",
       "303      Kilimani   25,000,000       NaN        NaN      NaN     NaN\n",
       "304       Kihingo  165,000,000       4.0        5.0      NaN     NaN\n",
       "305  Chalbi Drive   66,000,000       4.0        5.0      NaN     NaN\n",
       "306   House No 21  120,000,000      10.0       10.0      NaN     NaN\n",
       "\n",
       "[307 rows x 6 columns]"
      ]
     },
     "execution_count": 2,
     "metadata": {},
     "output_type": "execute_result"
    }
   ],
   "source": [
    "df1"
   ]
  },
  {
   "cell_type": "markdown",
   "id": "7f63de05",
   "metadata": {},
   "source": [
    "This first dataframe has 320 rows and 6 columns"
   ]
  },
  {
   "cell_type": "code",
   "execution_count": 3,
   "id": "00d7a0d0",
   "metadata": {},
   "outputs": [
    {
     "data": {
      "text/html": [
       "<div>\n",
       "<style scoped>\n",
       "    .dataframe tbody tr th:only-of-type {\n",
       "        vertical-align: middle;\n",
       "    }\n",
       "\n",
       "    .dataframe tbody tr th {\n",
       "        vertical-align: top;\n",
       "    }\n",
       "\n",
       "    .dataframe thead th {\n",
       "        text-align: right;\n",
       "    }\n",
       "</style>\n",
       "<table border=\"1\" class=\"dataframe\">\n",
       "  <thead>\n",
       "    <tr style=\"text-align: right;\">\n",
       "      <th></th>\n",
       "      <th>Location</th>\n",
       "      <th>Price</th>\n",
       "      <th>Bedrooms</th>\n",
       "      <th>Bathrooms</th>\n",
       "    </tr>\n",
       "  </thead>\n",
       "  <tbody>\n",
       "    <tr>\n",
       "      <th>0</th>\n",
       "      <td>Nairobi South, Starehe</td>\n",
       "      <td>26,000,000</td>\n",
       "      <td>4</td>\n",
       "      <td>3</td>\n",
       "    </tr>\n",
       "    <tr>\n",
       "      <th>1</th>\n",
       "      <td>Karen, Langata</td>\n",
       "      <td>100,000,000</td>\n",
       "      <td>5</td>\n",
       "      <td>4</td>\n",
       "    </tr>\n",
       "    <tr>\n",
       "      <th>2</th>\n",
       "      <td>Nairobi</td>\n",
       "      <td>16,750,000</td>\n",
       "      <td>3</td>\n",
       "      <td>2</td>\n",
       "    </tr>\n",
       "    <tr>\n",
       "      <th>3</th>\n",
       "      <td>Nairobi</td>\n",
       "      <td>13,000,000</td>\n",
       "      <td>3</td>\n",
       "      <td>2</td>\n",
       "    </tr>\n",
       "    <tr>\n",
       "      <th>4</th>\n",
       "      <td>Nairobi</td>\n",
       "      <td>48,000,000</td>\n",
       "      <td>4</td>\n",
       "      <td>5</td>\n",
       "    </tr>\n",
       "    <tr>\n",
       "      <th>...</th>\n",
       "      <td>...</td>\n",
       "      <td>...</td>\n",
       "      <td>...</td>\n",
       "      <td>...</td>\n",
       "    </tr>\n",
       "    <tr>\n",
       "      <th>43051</th>\n",
       "      <td>Nairobi</td>\n",
       "      <td>48,000,000</td>\n",
       "      <td>4</td>\n",
       "      <td>4</td>\n",
       "    </tr>\n",
       "    <tr>\n",
       "      <th>43052</th>\n",
       "      <td>Nairobi</td>\n",
       "      <td>65,000,000</td>\n",
       "      <td>4</td>\n",
       "      <td>4</td>\n",
       "    </tr>\n",
       "    <tr>\n",
       "      <th>43053</th>\n",
       "      <td>Nairobi</td>\n",
       "      <td>70,000,000</td>\n",
       "      <td>5</td>\n",
       "      <td>5</td>\n",
       "    </tr>\n",
       "    <tr>\n",
       "      <th>43054</th>\n",
       "      <td>Nairobi</td>\n",
       "      <td>400,000,000</td>\n",
       "      <td>4</td>\n",
       "      <td>5</td>\n",
       "    </tr>\n",
       "    <tr>\n",
       "      <th>43055</th>\n",
       "      <td>Nairobi</td>\n",
       "      <td>42,000,000</td>\n",
       "      <td>5</td>\n",
       "      <td>4</td>\n",
       "    </tr>\n",
       "  </tbody>\n",
       "</table>\n",
       "<p>43056 rows × 4 columns</p>\n",
       "</div>"
      ],
      "text/plain": [
       "                      Location        Price  Bedrooms Bathrooms\n",
       "0       Nairobi South, Starehe   26,000,000         4        3 \n",
       "1               Karen, Langata  100,000,000         5        4 \n",
       "2                      Nairobi   16,750,000         3        2 \n",
       "3                      Nairobi   13,000,000         3        2 \n",
       "4                      Nairobi   48,000,000         4        5 \n",
       "...                        ...          ...       ...       ...\n",
       "43051                  Nairobi   48,000,000         4        4 \n",
       "43052                  Nairobi   65,000,000         4        4 \n",
       "43053                  Nairobi   70,000,000         5        5 \n",
       "43054                  Nairobi  400,000,000         4        5 \n",
       "43055                  Nairobi   42,000,000         5        4 \n",
       "\n",
       "[43056 rows x 4 columns]"
      ]
     },
     "execution_count": 3,
     "metadata": {},
     "output_type": "execute_result"
    }
   ],
   "source": [
    "# uploading the second dataframe\n",
    "df2 = pd.read_csv('stardata.csv')\n",
    "df2"
   ]
  },
  {
   "cell_type": "markdown",
   "id": "25790030",
   "metadata": {},
   "source": [
    "The second datafrane has 43,056 rows and columns"
   ]
  },
  {
   "cell_type": "code",
   "execution_count": 4,
   "id": "7856a21f",
   "metadata": {},
   "outputs": [
    {
     "data": {
      "text/html": [
       "<div>\n",
       "<style scoped>\n",
       "    .dataframe tbody tr th:only-of-type {\n",
       "        vertical-align: middle;\n",
       "    }\n",
       "\n",
       "    .dataframe tbody tr th {\n",
       "        vertical-align: top;\n",
       "    }\n",
       "\n",
       "    .dataframe thead th {\n",
       "        text-align: right;\n",
       "    }\n",
       "</style>\n",
       "<table border=\"1\" class=\"dataframe\">\n",
       "  <thead>\n",
       "    <tr style=\"text-align: right;\">\n",
       "      <th></th>\n",
       "      <th>Location</th>\n",
       "      <th>Price</th>\n",
       "      <th>Bedrooms</th>\n",
       "      <th>Bathrooms</th>\n",
       "      <th>Toilets</th>\n",
       "      <th>Parking</th>\n",
       "    </tr>\n",
       "  </thead>\n",
       "  <tbody>\n",
       "    <tr>\n",
       "      <th>0</th>\n",
       "      <td>Runda</td>\n",
       "      <td>100,000,000</td>\n",
       "      <td>5.0</td>\n",
       "      <td>5.0</td>\n",
       "      <td>NaN</td>\n",
       "      <td>NaN</td>\n",
       "    </tr>\n",
       "    <tr>\n",
       "      <th>1</th>\n",
       "      <td>Kileleshwa</td>\n",
       "      <td>27,500,000</td>\n",
       "      <td>4.0</td>\n",
       "      <td>5.0</td>\n",
       "      <td>5.0</td>\n",
       "      <td>NaN</td>\n",
       "    </tr>\n",
       "    <tr>\n",
       "      <th>2</th>\n",
       "      <td>Ruai</td>\n",
       "      <td>7,800,000</td>\n",
       "      <td>5.0</td>\n",
       "      <td>4.0</td>\n",
       "      <td>5.0</td>\n",
       "      <td>2</td>\n",
       "    </tr>\n",
       "    <tr>\n",
       "      <th>3</th>\n",
       "      <td>Karen</td>\n",
       "      <td>75,500,000</td>\n",
       "      <td>5.0</td>\n",
       "      <td>5.0</td>\n",
       "      <td>NaN</td>\n",
       "      <td>NaN</td>\n",
       "    </tr>\n",
       "    <tr>\n",
       "      <th>4</th>\n",
       "      <td>Haven</td>\n",
       "      <td>120,000,000</td>\n",
       "      <td>4.0</td>\n",
       "      <td>4.0</td>\n",
       "      <td>4.0</td>\n",
       "      <td>4</td>\n",
       "    </tr>\n",
       "    <tr>\n",
       "      <th>...</th>\n",
       "      <td>...</td>\n",
       "      <td>...</td>\n",
       "      <td>...</td>\n",
       "      <td>...</td>\n",
       "      <td>...</td>\n",
       "      <td>...</td>\n",
       "    </tr>\n",
       "    <tr>\n",
       "      <th>43051</th>\n",
       "      <td>Nairobi</td>\n",
       "      <td>48,000,000</td>\n",
       "      <td>4.0</td>\n",
       "      <td>4</td>\n",
       "      <td>NaN</td>\n",
       "      <td>NaN</td>\n",
       "    </tr>\n",
       "    <tr>\n",
       "      <th>43052</th>\n",
       "      <td>Nairobi</td>\n",
       "      <td>65,000,000</td>\n",
       "      <td>4.0</td>\n",
       "      <td>4</td>\n",
       "      <td>NaN</td>\n",
       "      <td>NaN</td>\n",
       "    </tr>\n",
       "    <tr>\n",
       "      <th>43053</th>\n",
       "      <td>Nairobi</td>\n",
       "      <td>70,000,000</td>\n",
       "      <td>5.0</td>\n",
       "      <td>5</td>\n",
       "      <td>NaN</td>\n",
       "      <td>NaN</td>\n",
       "    </tr>\n",
       "    <tr>\n",
       "      <th>43054</th>\n",
       "      <td>Nairobi</td>\n",
       "      <td>400,000,000</td>\n",
       "      <td>4.0</td>\n",
       "      <td>5</td>\n",
       "      <td>NaN</td>\n",
       "      <td>NaN</td>\n",
       "    </tr>\n",
       "    <tr>\n",
       "      <th>43055</th>\n",
       "      <td>Nairobi</td>\n",
       "      <td>42,000,000</td>\n",
       "      <td>5.0</td>\n",
       "      <td>4</td>\n",
       "      <td>NaN</td>\n",
       "      <td>NaN</td>\n",
       "    </tr>\n",
       "  </tbody>\n",
       "</table>\n",
       "<p>43363 rows × 6 columns</p>\n",
       "</div>"
      ],
      "text/plain": [
       "         Location        Price  Bedrooms Bathrooms  Toilets Parking\n",
       "0           Runda  100,000,000       5.0       5.0      NaN     NaN\n",
       "1      Kileleshwa   27,500,000       4.0       5.0      5.0     NaN\n",
       "2            Ruai    7,800,000       5.0       4.0      5.0       2\n",
       "3           Karen   75,500,000       5.0       5.0      NaN     NaN\n",
       "4           Haven  120,000,000       4.0       4.0      4.0       4\n",
       "...           ...          ...       ...       ...      ...     ...\n",
       "43051     Nairobi   48,000,000       4.0        4       NaN     NaN\n",
       "43052     Nairobi   65,000,000       4.0        4       NaN     NaN\n",
       "43053     Nairobi   70,000,000       5.0        5       NaN     NaN\n",
       "43054     Nairobi  400,000,000       4.0        5       NaN     NaN\n",
       "43055     Nairobi   42,000,000       5.0        4       NaN     NaN\n",
       "\n",
       "[43363 rows x 6 columns]"
      ]
     },
     "execution_count": 4,
     "metadata": {},
     "output_type": "execute_result"
    }
   ],
   "source": [
    "df = pd.concat([df1, df2], axis=0)\n",
    "df"
   ]
  },
  {
   "cell_type": "markdown",
   "id": "2b391f27",
   "metadata": {},
   "source": [
    "df refers to the two dataframes combined and the dataframe has 43,376 rows and 6 columns. "
   ]
  },
  {
   "cell_type": "code",
   "execution_count": 5,
   "id": "a5005074",
   "metadata": {},
   "outputs": [
    {
     "data": {
      "text/plain": [
       " Nairobi                    21527\n",
       " Karen, Langata             12558\n",
       " Nairobi South, Starehe      8970\n",
       "Runda                          59\n",
       "Karen                          36\n",
       "                            ...  \n",
       "Nairobi Central                 1\n",
       "Garage On Oneacre North.        1\n",
       "69 Woodvale Close               1\n",
       "Denis Pritt Road                1\n",
       "Nairobi                         1\n",
       "Name: Location, Length: 107, dtype: int64"
      ]
     },
     "execution_count": 5,
     "metadata": {},
     "output_type": "execute_result"
    }
   ],
   "source": [
    "df['Location'].value_counts()"
   ]
  },
  {
   "cell_type": "code",
   "execution_count": 6,
   "id": "1d5eb207",
   "metadata": {},
   "outputs": [
    {
     "data": {
      "text/plain": [
       "5.0     23451\n",
       "4.0     14455\n",
       "3.0      5408\n",
       "6.0        24\n",
       "7.0         9\n",
       "8.0         5\n",
       "10.0        3\n",
       "14.0        2\n",
       "2.0         2\n",
       "16.0        1\n",
       "9.0         1\n",
       "Name: Bedrooms, dtype: int64"
      ]
     },
     "execution_count": 6,
     "metadata": {},
     "output_type": "execute_result"
    }
   ],
   "source": [
    "df['Bedrooms'].value_counts()"
   ]
  },
  {
   "cell_type": "code",
   "execution_count": 7,
   "id": "7f383b1c",
   "metadata": {},
   "outputs": [
    {
     "data": {
      "text/plain": [
       "5         16146\n",
       "4         12558\n",
       "3          5382\n",
       "2          5382\n",
       "7          1794\n",
       "House      1794\n",
       "5.0          90\n",
       "6.0          74\n",
       "4.0          46\n",
       "7.0          25\n",
       "3.0          19\n",
       "2.0           8\n",
       "8.0           6\n",
       "9.0           6\n",
       "10.0          3\n",
       "340.0         1\n",
       "180.0         1\n",
       "18.0          1\n",
       "15.0          1\n",
       "11.0          1\n",
       "1.0           1\n",
       "12.0          1\n",
       "Name: Bathrooms, dtype: int64"
      ]
     },
     "execution_count": 7,
     "metadata": {},
     "output_type": "execute_result"
    }
   ],
   "source": [
    "df['Bathrooms'].value_counts()"
   ]
  },
  {
   "cell_type": "code",
   "execution_count": 8,
   "id": "2e4c3985",
   "metadata": {},
   "outputs": [
    {
     "data": {
      "text/plain": [
       "6.0      82\n",
       "5.0      69\n",
       "4.0      35\n",
       "7.0      26\n",
       "3.0      16\n",
       "2.0       9\n",
       "1.0       8\n",
       "9.0       5\n",
       "8.0       4\n",
       "10.0      2\n",
       "12.0      1\n",
       "18.0      1\n",
       "15.0      1\n",
       "210.0     1\n",
       "11.0      1\n",
       "Name: Toilets, dtype: int64"
      ]
     },
     "execution_count": 8,
     "metadata": {},
     "output_type": "execute_result"
    }
   ],
   "source": [
    "df['Toilets'].value_counts()"
   ]
  },
  {
   "cell_type": "code",
   "execution_count": 9,
   "id": "94dd386c",
   "metadata": {},
   "outputs": [
    {
     "data": {
      "text/plain": [
       "4        42\n",
       "5        34\n",
       "3        26\n",
       "6        25\n",
       "10       21\n",
       "2        18\n",
       "8        12\n",
       "7        10\n",
       "9         5\n",
       "15        3\n",
       "20        2\n",
       "4,830     1\n",
       "14        1\n",
       "30        1\n",
       "5,000     1\n",
       "2,023     1\n",
       "1         1\n",
       "Name: Parking, dtype: int64"
      ]
     },
     "execution_count": 9,
     "metadata": {},
     "output_type": "execute_result"
    }
   ],
   "source": [
    "df['Parking'].value_counts()"
   ]
  },
  {
   "cell_type": "code",
   "execution_count": 10,
   "id": "ac2aab6a",
   "metadata": {},
   "outputs": [],
   "source": [
    "class DataUnderstanding(object):\n",
    "    \"\"\"This is a class that does basic data understanding\"\"\"\n",
    "    def __init__(self, df):\n",
    "        self.shape = df.shape\n",
    "        self.info = df.info\n",
    "        self.duplicates = df.duplicated().sum()\n",
    "        self.missing = df.isna().sum()\n",
    "        self.types = df.dtypes"
   ]
  },
  {
   "cell_type": "code",
   "execution_count": 11,
   "id": "5850b010",
   "metadata": {},
   "outputs": [],
   "source": [
    "#instantiating the classes\n",
    "dataund= DataUnderstanding(df)"
   ]
  },
  {
   "cell_type": "code",
   "execution_count": 12,
   "id": "1a621565",
   "metadata": {},
   "outputs": [
    {
     "name": "stdout",
     "output_type": "stream",
     "text": [
      "shape:(43363, 6)\n"
     ]
    }
   ],
   "source": [
    "#Getting the shape of the dataset\n",
    "print(f\"shape:{dataund.shape}\")"
   ]
  },
  {
   "cell_type": "code",
   "execution_count": 13,
   "id": "aa2f6a7b",
   "metadata": {},
   "outputs": [
    {
     "name": "stdout",
     "output_type": "stream",
     "text": [
      "<class 'pandas.core.frame.DataFrame'>\n",
      "Int64Index: 43363 entries, 0 to 43055\n",
      "Data columns (total 6 columns):\n",
      " #   Column     Non-Null Count  Dtype  \n",
      "---  ------     --------------  -----  \n",
      " 0   Location   43363 non-null  object \n",
      " 1   Price      43363 non-null  object \n",
      " 2   Bedrooms   43361 non-null  float64\n",
      " 3   Bathrooms  43340 non-null  object \n",
      " 4   Toilets    261 non-null    float64\n",
      " 5   Parking    204 non-null    object \n",
      "dtypes: float64(2), object(4)\n",
      "memory usage: 2.3+ MB\n",
      "None\n"
     ]
    }
   ],
   "source": [
    "#getting the info of the data\n",
    "print(dataund.info())"
   ]
  },
  {
   "cell_type": "code",
   "execution_count": 14,
   "id": "b649f52c",
   "metadata": {},
   "outputs": [
    {
     "data": {
      "text/plain": [
       "Location         0\n",
       "Price            0\n",
       "Bedrooms         2\n",
       "Bathrooms       23\n",
       "Toilets      43102\n",
       "Parking      43159\n",
       "dtype: int64"
      ]
     },
     "execution_count": 14,
     "metadata": {},
     "output_type": "execute_result"
    }
   ],
   "source": [
    "#getting the missing values\n",
    "dataund.missing"
   ]
  },
  {
   "cell_type": "code",
   "execution_count": 15,
   "id": "772c2cc6",
   "metadata": {},
   "outputs": [
    {
     "data": {
      "text/plain": [
       "Location      object\n",
       "Price         object\n",
       "Bedrooms     float64\n",
       "Bathrooms     object\n",
       "Toilets      float64\n",
       "Parking       object\n",
       "dtype: object"
      ]
     },
     "execution_count": 15,
     "metadata": {},
     "output_type": "execute_result"
    }
   ],
   "source": [
    "#checking the data types\n",
    "dataund.types"
   ]
  },
  {
   "cell_type": "code",
   "execution_count": 16,
   "id": "3fe5a237",
   "metadata": {},
   "outputs": [
    {
     "name": "stdout",
     "output_type": "stream",
     "text": [
      "Duplicates:43041\n"
     ]
    }
   ],
   "source": [
    "#checking for duplicates\n",
    "print(f\"Duplicates:{dataund.duplicates.sum()}\")"
   ]
  },
  {
   "cell_type": "markdown",
   "id": "25b2f5a0",
   "metadata": {},
   "source": [
    "The duplicates are retainable because a house can have equal number of bedrooms, bathrooms, price and also can be located at the same place. "
   ]
  },
  {
   "cell_type": "markdown",
   "id": "b20c2d4d",
   "metadata": {},
   "source": [
    "## Data Preparation "
   ]
  },
  {
   "cell_type": "markdown",
   "id": "177173d2",
   "metadata": {},
   "source": [
    "#### Dealing with missing values"
   ]
  },
  {
   "cell_type": "code",
   "execution_count": 17,
   "id": "bdbd4aca",
   "metadata": {},
   "outputs": [],
   "source": [
    "# Dropping toilets and parking columns out of their huge number of missing values\n",
    "df.drop(['Toilets','Parking'], axis = 1, inplace = True)"
   ]
  },
  {
   "cell_type": "code",
   "execution_count": 18,
   "id": "0e3b2064",
   "metadata": {},
   "outputs": [],
   "source": [
    "# Filling the bedrooms columns with the mean\n",
    "df['Bedrooms'].fillna(df['Bedrooms'].mean(), inplace=True)"
   ]
  },
  {
   "cell_type": "code",
   "execution_count": 19,
   "id": "92aae2aa",
   "metadata": {},
   "outputs": [
    {
     "data": {
      "text/html": [
       "<div>\n",
       "<style scoped>\n",
       "    .dataframe tbody tr th:only-of-type {\n",
       "        vertical-align: middle;\n",
       "    }\n",
       "\n",
       "    .dataframe tbody tr th {\n",
       "        vertical-align: top;\n",
       "    }\n",
       "\n",
       "    .dataframe thead th {\n",
       "        text-align: right;\n",
       "    }\n",
       "</style>\n",
       "<table border=\"1\" class=\"dataframe\">\n",
       "  <thead>\n",
       "    <tr style=\"text-align: right;\">\n",
       "      <th></th>\n",
       "      <th>Location</th>\n",
       "      <th>Price</th>\n",
       "      <th>Bedrooms</th>\n",
       "      <th>Bathrooms</th>\n",
       "    </tr>\n",
       "  </thead>\n",
       "  <tbody>\n",
       "    <tr>\n",
       "      <th>0</th>\n",
       "      <td>Runda</td>\n",
       "      <td>100,000,000</td>\n",
       "      <td>5</td>\n",
       "      <td>5.0</td>\n",
       "    </tr>\n",
       "    <tr>\n",
       "      <th>1</th>\n",
       "      <td>Kileleshwa</td>\n",
       "      <td>27,500,000</td>\n",
       "      <td>4</td>\n",
       "      <td>5.0</td>\n",
       "    </tr>\n",
       "    <tr>\n",
       "      <th>2</th>\n",
       "      <td>Ruai</td>\n",
       "      <td>7,800,000</td>\n",
       "      <td>5</td>\n",
       "      <td>4.0</td>\n",
       "    </tr>\n",
       "    <tr>\n",
       "      <th>3</th>\n",
       "      <td>Karen</td>\n",
       "      <td>75,500,000</td>\n",
       "      <td>5</td>\n",
       "      <td>5.0</td>\n",
       "    </tr>\n",
       "    <tr>\n",
       "      <th>4</th>\n",
       "      <td>Haven</td>\n",
       "      <td>120,000,000</td>\n",
       "      <td>4</td>\n",
       "      <td>4.0</td>\n",
       "    </tr>\n",
       "    <tr>\n",
       "      <th>...</th>\n",
       "      <td>...</td>\n",
       "      <td>...</td>\n",
       "      <td>...</td>\n",
       "      <td>...</td>\n",
       "    </tr>\n",
       "    <tr>\n",
       "      <th>43051</th>\n",
       "      <td>Nairobi</td>\n",
       "      <td>48,000,000</td>\n",
       "      <td>4</td>\n",
       "      <td>4</td>\n",
       "    </tr>\n",
       "    <tr>\n",
       "      <th>43052</th>\n",
       "      <td>Nairobi</td>\n",
       "      <td>65,000,000</td>\n",
       "      <td>4</td>\n",
       "      <td>4</td>\n",
       "    </tr>\n",
       "    <tr>\n",
       "      <th>43053</th>\n",
       "      <td>Nairobi</td>\n",
       "      <td>70,000,000</td>\n",
       "      <td>5</td>\n",
       "      <td>5</td>\n",
       "    </tr>\n",
       "    <tr>\n",
       "      <th>43054</th>\n",
       "      <td>Nairobi</td>\n",
       "      <td>400,000,000</td>\n",
       "      <td>4</td>\n",
       "      <td>5</td>\n",
       "    </tr>\n",
       "    <tr>\n",
       "      <th>43055</th>\n",
       "      <td>Nairobi</td>\n",
       "      <td>42,000,000</td>\n",
       "      <td>5</td>\n",
       "      <td>4</td>\n",
       "    </tr>\n",
       "  </tbody>\n",
       "</table>\n",
       "<p>43363 rows × 4 columns</p>\n",
       "</div>"
      ],
      "text/plain": [
       "         Location        Price  Bedrooms Bathrooms\n",
       "0           Runda  100,000,000         5       5.0\n",
       "1      Kileleshwa   27,500,000         4       5.0\n",
       "2            Ruai    7,800,000         5       4.0\n",
       "3           Karen   75,500,000         5       5.0\n",
       "4           Haven  120,000,000         4       4.0\n",
       "...           ...          ...       ...       ...\n",
       "43051     Nairobi   48,000,000         4        4 \n",
       "43052     Nairobi   65,000,000         4        4 \n",
       "43053     Nairobi   70,000,000         5        5 \n",
       "43054     Nairobi  400,000,000         4        5 \n",
       "43055     Nairobi   42,000,000         5        4 \n",
       "\n",
       "[43363 rows x 4 columns]"
      ]
     },
     "execution_count": 19,
     "metadata": {},
     "output_type": "execute_result"
    }
   ],
   "source": [
    "# Converting bedrooms into interger\n",
    "df['Bedrooms'] = df.Bedrooms.astype(int)\n",
    "df"
   ]
  },
  {
   "cell_type": "code",
   "execution_count": 20,
   "id": "309026d0",
   "metadata": {},
   "outputs": [],
   "source": [
    "# To convert the categorical values to numeric to help fill the null values\n",
    "df['Bathrooms'] = pd.to_numeric(df['Bathrooms'], errors='coerce')\n",
    "df['Bathrooms'] = df['Bathrooms'].fillna(0)"
   ]
  },
  {
   "cell_type": "code",
   "execution_count": 21,
   "id": "a73f1f64",
   "metadata": {},
   "outputs": [
    {
     "data": {
      "text/plain": [
       "0        5\n",
       "1        5\n",
       "2        4\n",
       "3        5\n",
       "4        4\n",
       "        ..\n",
       "43051    4\n",
       "43052    4\n",
       "43053    5\n",
       "43054    5\n",
       "43055    4\n",
       "Name: Bathrooms, Length: 43363, dtype: Int32"
      ]
     },
     "execution_count": 21,
     "metadata": {},
     "output_type": "execute_result"
    }
   ],
   "source": [
    "# converting to float and then to interger\n",
    "df['Bathrooms'].astype(np.float).astype(\"Int32\")"
   ]
  },
  {
   "cell_type": "code",
   "execution_count": 22,
   "id": "97517d6c",
   "metadata": {},
   "outputs": [
    {
     "data": {
      "text/html": [
       "<div>\n",
       "<style scoped>\n",
       "    .dataframe tbody tr th:only-of-type {\n",
       "        vertical-align: middle;\n",
       "    }\n",
       "\n",
       "    .dataframe tbody tr th {\n",
       "        vertical-align: top;\n",
       "    }\n",
       "\n",
       "    .dataframe thead th {\n",
       "        text-align: right;\n",
       "    }\n",
       "</style>\n",
       "<table border=\"1\" class=\"dataframe\">\n",
       "  <thead>\n",
       "    <tr style=\"text-align: right;\">\n",
       "      <th></th>\n",
       "      <th>Location</th>\n",
       "      <th>Price</th>\n",
       "      <th>Bedrooms</th>\n",
       "      <th>Bathrooms</th>\n",
       "    </tr>\n",
       "  </thead>\n",
       "  <tbody>\n",
       "    <tr>\n",
       "      <th>0</th>\n",
       "      <td>Runda</td>\n",
       "      <td>100,000,000</td>\n",
       "      <td>5</td>\n",
       "      <td>5</td>\n",
       "    </tr>\n",
       "    <tr>\n",
       "      <th>1</th>\n",
       "      <td>Kileleshwa</td>\n",
       "      <td>27,500,000</td>\n",
       "      <td>4</td>\n",
       "      <td>5</td>\n",
       "    </tr>\n",
       "    <tr>\n",
       "      <th>2</th>\n",
       "      <td>Ruai</td>\n",
       "      <td>7,800,000</td>\n",
       "      <td>5</td>\n",
       "      <td>4</td>\n",
       "    </tr>\n",
       "    <tr>\n",
       "      <th>3</th>\n",
       "      <td>Karen</td>\n",
       "      <td>75,500,000</td>\n",
       "      <td>5</td>\n",
       "      <td>5</td>\n",
       "    </tr>\n",
       "    <tr>\n",
       "      <th>4</th>\n",
       "      <td>Haven</td>\n",
       "      <td>120,000,000</td>\n",
       "      <td>4</td>\n",
       "      <td>4</td>\n",
       "    </tr>\n",
       "    <tr>\n",
       "      <th>...</th>\n",
       "      <td>...</td>\n",
       "      <td>...</td>\n",
       "      <td>...</td>\n",
       "      <td>...</td>\n",
       "    </tr>\n",
       "    <tr>\n",
       "      <th>43051</th>\n",
       "      <td>Nairobi</td>\n",
       "      <td>48,000,000</td>\n",
       "      <td>4</td>\n",
       "      <td>4</td>\n",
       "    </tr>\n",
       "    <tr>\n",
       "      <th>43052</th>\n",
       "      <td>Nairobi</td>\n",
       "      <td>65,000,000</td>\n",
       "      <td>4</td>\n",
       "      <td>4</td>\n",
       "    </tr>\n",
       "    <tr>\n",
       "      <th>43053</th>\n",
       "      <td>Nairobi</td>\n",
       "      <td>70,000,000</td>\n",
       "      <td>5</td>\n",
       "      <td>5</td>\n",
       "    </tr>\n",
       "    <tr>\n",
       "      <th>43054</th>\n",
       "      <td>Nairobi</td>\n",
       "      <td>400,000,000</td>\n",
       "      <td>4</td>\n",
       "      <td>5</td>\n",
       "    </tr>\n",
       "    <tr>\n",
       "      <th>43055</th>\n",
       "      <td>Nairobi</td>\n",
       "      <td>42,000,000</td>\n",
       "      <td>5</td>\n",
       "      <td>4</td>\n",
       "    </tr>\n",
       "  </tbody>\n",
       "</table>\n",
       "<p>43363 rows × 4 columns</p>\n",
       "</div>"
      ],
      "text/plain": [
       "         Location        Price  Bedrooms  Bathrooms\n",
       "0           Runda  100,000,000         5          5\n",
       "1      Kileleshwa   27,500,000         4          5\n",
       "2            Ruai    7,800,000         5          4\n",
       "3           Karen   75,500,000         5          5\n",
       "4           Haven  120,000,000         4          4\n",
       "...           ...          ...       ...        ...\n",
       "43051     Nairobi   48,000,000         4          4\n",
       "43052     Nairobi   65,000,000         4          4\n",
       "43053     Nairobi   70,000,000         5          5\n",
       "43054     Nairobi  400,000,000         4          5\n",
       "43055     Nairobi   42,000,000         5          4\n",
       "\n",
       "[43363 rows x 4 columns]"
      ]
     },
     "execution_count": 22,
     "metadata": {},
     "output_type": "execute_result"
    }
   ],
   "source": [
    "df['Bathrooms'] = df.Bathrooms.astype(int)\n",
    "df"
   ]
  },
  {
   "cell_type": "code",
   "execution_count": 23,
   "id": "91ca241f",
   "metadata": {},
   "outputs": [],
   "source": [
    "# Filling the missing values with the mean\n",
    "df['Bathrooms'].fillna(df['Bathrooms'].mean(), inplace=True)"
   ]
  },
  {
   "cell_type": "code",
   "execution_count": 24,
   "id": "b7e241ce",
   "metadata": {},
   "outputs": [
    {
     "data": {
      "text/plain": [
       "Location     0\n",
       "Price        0\n",
       "Bedrooms     0\n",
       "Bathrooms    0\n",
       "dtype: int64"
      ]
     },
     "execution_count": 24,
     "metadata": {},
     "output_type": "execute_result"
    }
   ],
   "source": [
    "# Checking for the successful filling \n",
    "df.isna().sum()"
   ]
  },
  {
   "cell_type": "code",
   "execution_count": 25,
   "id": "57e205eb",
   "metadata": {},
   "outputs": [],
   "source": [
    "# Removing the comma in prices \n",
    "# giving it a different name\n",
    "df['Price_Int'] = df['Price'].replace(',', '', regex=True).astype(np.float).astype(\"Int32\")"
   ]
  },
  {
   "cell_type": "code",
   "execution_count": 26,
   "id": "e3e8d714",
   "metadata": {},
   "outputs": [],
   "source": [
    "# Dropping the initial Price column\n",
    "df.drop('Price', axis=1, inplace=True)"
   ]
  },
  {
   "cell_type": "code",
   "execution_count": 27,
   "id": "5d5969f7",
   "metadata": {},
   "outputs": [],
   "source": [
    "# Renaming the new column\n",
    "df.rename(columns={'Price_Int': 'Price'}, inplace=True)"
   ]
  },
  {
   "cell_type": "code",
   "execution_count": 28,
   "id": "b0ae2795",
   "metadata": {},
   "outputs": [
    {
     "data": {
      "text/plain": [
       "Location     object\n",
       "Bedrooms      int32\n",
       "Bathrooms     int32\n",
       "Price         Int32\n",
       "dtype: object"
      ]
     },
     "execution_count": 28,
     "metadata": {},
     "output_type": "execute_result"
    }
   ],
   "source": [
    "# Checking the successive changes in types from objects to float and integers.\n",
    "df.dtypes"
   ]
  },
  {
   "cell_type": "markdown",
   "id": "22147424",
   "metadata": {},
   "source": [
    "#### Dealing with Outliers"
   ]
  },
  {
   "cell_type": "code",
   "execution_count": 29,
   "id": "a3b0c219",
   "metadata": {},
   "outputs": [
    {
     "data": {
      "image/png": "[encoded data removed]",
      "text/plain": [
       "<Figure size 640x480 with 1 Axes>"
      ]
     },
     "metadata": {},
     "output_type": "display_data"
    }
   ],
   "source": [
    "df.boxplot(column=['Bedrooms'])\n",
    "plt.show()"
   ]
  },
  {
   "cell_type": "markdown",
   "id": "3c745ee6",
   "metadata": {},
   "source": [
    "The outliers in the bedrooms column is justifiable in that the house would be a rental house. In rental houses, one house could have several bedrooms that all add to the number present in the dataframe."
   ]
  },
  {
   "cell_type": "code",
   "execution_count": 30,
   "id": "54dd4b84",
   "metadata": {},
   "outputs": [
    {
     "data": {
      "image/png": "[encoded data removed]",
      "text/plain": [
       "<Figure size 640x480 with 1 Axes>"
      ]
     },
     "metadata": {},
     "output_type": "display_data"
    }
   ],
   "source": [
    "df.boxplot(column=['Bathrooms'])\n",
    "plt.show()"
   ]
  },
  {
   "cell_type": "markdown",
   "id": "c3138988",
   "metadata": {},
   "source": [
    "The outliers in the bathroom column is justifiable in that the house would be a rental house. In rental houses, one house could have several bathrooms that all add to the huge number present in the dataframe. "
   ]
  },
  {
   "cell_type": "code",
   "execution_count": 31,
   "id": "017d587d",
   "metadata": {},
   "outputs": [
    {
     "data": {
      "image/png": "[encoded data removed]",
      "text/plain": [
       "<Figure size 640x480 with 1 Axes>"
      ]
     },
     "metadata": {},
     "output_type": "display_data"
    }
   ],
   "source": [
    "df.boxplot(column=['Price'])\n",
    "plt.show()"
   ]
  },
  {
   "cell_type": "markdown",
   "id": "021408df",
   "metadata": {},
   "source": [
    "The variance in the price is justifiable in that some buldings are much worth than others. Otherwise, their variance would come about since the number of bedrooms and bathrooms in this dataframe could be for rental houses. These assets are likely to cost higher since they are income generating assets and much worth in terms of amount invested relative to the other houses. "
   ]
  },
  {
   "cell_type": "markdown",
   "id": "eada59ef",
   "metadata": {},
   "source": [
    "#### Exploratory Data Analysis "
   ]
  },
  {
   "cell_type": "code",
   "execution_count": 36,
   "id": "5df3a4ca",
   "metadata": {},
   "outputs": [],
   "source": [
    "# EDA class\n",
    "class EdaAnalysis:\n",
    "    \n",
    "    def univariate(self,df,col1):\n",
    "        \"\"\" A function that does univariate analysis\"\"\"\n",
    "        plt.figure(figsize=(16,8))\n",
    "        sns.countplot(x=col1,data=df)\n",
    "        plt.title(f'Number of Houses per {col1}')\n",
    "        plt.xlabel(col1)\n",
    "        plt.xticks(rotation=45)\n",
    "        plt.show()\n",
    "        \n",
    "    def bivariate(self,df,col1, col2):\n",
    "        \"\"\" A function that does bivariate analysis\"\"\"\n",
    "        plt.figure(figsize=(16,8))\n",
    "        sns.countplot(x=col1, data= df,hue=col2)\n",
    "        plt.title(f'{col1} on {col2}')\n",
    "        plt.ylabel(f'count of{col1}')\n",
    "        \n",
    "    def multivariate_analysis(self, df):\n",
    "      \n",
    "        \"\"\"Perform multivariate analysis on the data\"\"\"\n",
    "        # Calculate the pairwise Pearson correlation coefficients for all columns\n",
    "        corr_matrix = df.corr()\n",
    "        # Plot a heatmap to visualize the correlations\n",
    "        sns.heatmap(corr_matrix)"
   ]
  },
  {
   "cell_type": "code",
   "execution_count": 37,
   "id": "bc188a6b",
   "metadata": {},
   "outputs": [],
   "source": [
    "# Instantiation \n",
    "graph = EdaAnalysis()"
   ]
  },
  {
   "cell_type": "markdown",
   "id": "a81f8b86",
   "metadata": {},
   "source": [
    "#### Univariate Analysis"
   ]
  },
  {
   "cell_type": "code",
   "execution_count": 38,
   "id": "0101e21f",
   "metadata": {},
   "outputs": [
    {
     "data": {
      "image/png": "[encoded data removed]",
      "text/plain": [
       "<Figure size 1600x800 with 1 Axes>"
      ]
     },
     "metadata": {},
     "output_type": "display_data"
    }
   ],
   "source": [
    "graph.univariate(df, 'Bedrooms')"
   ]
  },
  {
   "cell_type": "markdown",
   "id": "337d4655",
   "metadata": {},
   "source": [
    "5 bedrooms, 4 bedrooms and 3 bedrooms are the majority in this dataset with counts of 23,451, 14,457, and 5,408 respectively."
   ]
  },
  {
   "cell_type": "code",
   "execution_count": 39,
   "id": "e5d8fa9b",
   "metadata": {},
   "outputs": [
    {
     "data": {
      "image/png": "[encoded data removed]",
      "text/plain": [
       "<Figure size 1600x800 with 1 Axes>"
      ]
     },
     "metadata": {},
     "output_type": "display_data"
    }
   ],
   "source": [
    "graph.univariate(df, 'Bathrooms')"
   ]
  },
  {
   "cell_type": "markdown",
   "id": "76d48637",
   "metadata": {},
   "source": [
    "5 bathrooms, 4 bathrooms and 3 bathrooms houses are the majority in this dataset with counts of 16,236, 12,604, and 5,401 respectively."
   ]
  },
  {
   "cell_type": "code",
   "execution_count": 44,
   "id": "86723d5d",
   "metadata": {},
   "outputs": [
    {
     "data": {
      "text/plain": [
       "650000000"
      ]
     },
     "execution_count": 44,
     "metadata": {},
     "output_type": "execute_result"
    }
   ],
   "source": [
    "max(df['Price'])"
   ]
  },
  {
   "cell_type": "code",
   "execution_count": 47,
   "id": "129627bc",
   "metadata": {},
   "outputs": [],
   "source": [
    "col = 'Price'\n",
    "\n",
    "# Create the bins\n",
    "bins = [0, 100000000, 200000000, 300000000, 400000000, 500000000, 600000000, 700000000]\n",
    "\n",
    "# Create the names for the bins\n",
    "names = ['0-100,000,000', '100,000,001-200,000,000', '200,000,001-300,000,000', '300,000,001-400,000,000', \n",
    "         '400,000,001-500,000,000', '500,000,001-600,000,000', '600,000,001-70,0000,000']\n",
    "\n",
    "# Bin the data\n",
    "df['Prices_binned'] = pd.cut(df[col], bins, labels=names)"
   ]
  },
  {
   "cell_type": "code",
   "execution_count": 48,
   "id": "007364fb",
   "metadata": {},
   "outputs": [
    {
     "data": {
      "image/png": "[encoded data removed]",
      "text/plain": [
       "<Figure size 1600x800 with 1 Axes>"
      ]
     },
     "metadata": {},
     "output_type": "display_data"
    }
   ],
   "source": [
    "graph.univariate(df, 'Prices_binned')"
   ]
  },
  {
   "cell_type": "code",
   "execution_count": null,
   "id": "327f203e",
   "metadata": {},
   "outputs": [],
   "source": []
  },
  {
   "cell_type": "code",
   "execution_count": 40,
   "id": "64c9fcd7",
   "metadata": {},
   "outputs": [
    {
     "data": {
      "text/plain": [
       "5      16236\n",
       "4      12604\n",
       "3       5401\n",
       "2       5390\n",
       "7       1819\n",
       "0       1817\n",
       "6         74\n",
       "8          6\n",
       "9          6\n",
       "10         3\n",
       "12         1\n",
       "340        1\n",
       "180        1\n",
       "18         1\n",
       "15         1\n",
       "11         1\n",
       "1          1\n",
       "Name: Bathrooms, dtype: int64"
      ]
     },
     "execution_count": 40,
     "metadata": {},
     "output_type": "execute_result"
    }
   ],
   "source": [
    "df['Location'].value_counts()"
   ]
  },
  {
   "cell_type": "code",
   "execution_count": null,
   "id": "f0e3aae4",
   "metadata": {},
   "outputs": [],
   "source": []
  }
 ],
 "metadata": {
  "kernelspec": {
   "display_name": "Python 3 (ipykernel)",
   "language": "python",
   "name": "python3"
  },
  "language_info": {
   "codemirror_mode": {
    "name": "ipython",
    "version": 3
   },
   "file_extension": ".py",
   "mimetype": "text/x-python",
   "name": "python",
   "nbconvert_exporter": "python",
   "pygments_lexer": "ipython3",
   "version": "3.9.13"
  }
 },
 "nbformat": 4,
 "nbformat_minor": 5
}
