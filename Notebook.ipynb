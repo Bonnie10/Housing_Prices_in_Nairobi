{
 "cells": [
  {
   "cell_type": "code",
   "execution_count": null,
   "id": "96d654ed",
   "metadata": {},
   "outputs": [],
   "source": []
  },
  {
   "cell_type": "code",
   "execution_count": null,
   "id": "761d9ff8",
   "metadata": {},
   "outputs": [],
   "source": []
  },
  {
   "cell_type": "code",
   "execution_count": 1,
   "id": "bd97d0eb",
   "metadata": {},
   "outputs": [],
   "source": [
    "import pandas as pd\n",
    "# uploading the first dataframe\n",
    "df1 = pd.read_csv('df.csv')"
   ]
  },
  {
   "cell_type": "code",
   "execution_count": 2,
   "id": "37af232a",
   "metadata": {},
   "outputs": [
    {
     "data": {
      "text/html": [
       "<div>\n",
       "<style scoped>\n",
       "    .dataframe tbody tr th:only-of-type {\n",
       "        vertical-align: middle;\n",
       "    }\n",
       "\n",
       "    .dataframe tbody tr th {\n",
       "        vertical-align: top;\n",
       "    }\n",
       "\n",
       "    .dataframe thead th {\n",
       "        text-align: right;\n",
       "    }\n",
       "</style>\n",
       "<table border=\"1\" class=\"dataframe\">\n",
       "  <thead>\n",
       "    <tr style=\"text-align: right;\">\n",
       "      <th></th>\n",
       "      <th>Location</th>\n",
       "      <th>Price</th>\n",
       "      <th>Bedrooms</th>\n",
       "      <th>Bathrooms</th>\n",
       "      <th>Toilets</th>\n",
       "      <th>Parking</th>\n",
       "    </tr>\n",
       "  </thead>\n",
       "  <tbody>\n",
       "    <tr>\n",
       "      <th>0</th>\n",
       "      <td>Runda</td>\n",
       "      <td>100,000,000</td>\n",
       "      <td>5</td>\n",
       "      <td>5</td>\n",
       "      <td>Not available</td>\n",
       "      <td>Not available</td>\n",
       "    </tr>\n",
       "    <tr>\n",
       "      <th>1</th>\n",
       "      <td>Kileleshwa</td>\n",
       "      <td>27,500,000</td>\n",
       "      <td>4</td>\n",
       "      <td>5</td>\n",
       "      <td>5</td>\n",
       "      <td>Not available</td>\n",
       "    </tr>\n",
       "    <tr>\n",
       "      <th>2</th>\n",
       "      <td>Ruai</td>\n",
       "      <td>7,800,000</td>\n",
       "      <td>5</td>\n",
       "      <td>4</td>\n",
       "      <td>5</td>\n",
       "      <td>2</td>\n",
       "    </tr>\n",
       "    <tr>\n",
       "      <th>3</th>\n",
       "      <td>Karen</td>\n",
       "      <td>75,500,000</td>\n",
       "      <td>5</td>\n",
       "      <td>5</td>\n",
       "      <td>Not available</td>\n",
       "      <td>Not available</td>\n",
       "    </tr>\n",
       "    <tr>\n",
       "      <th>4</th>\n",
       "      <td>Haven</td>\n",
       "      <td>120,000,000</td>\n",
       "      <td>4</td>\n",
       "      <td>4</td>\n",
       "      <td>4</td>\n",
       "      <td>4</td>\n",
       "    </tr>\n",
       "    <tr>\n",
       "      <th>...</th>\n",
       "      <td>...</td>\n",
       "      <td>...</td>\n",
       "      <td>...</td>\n",
       "      <td>...</td>\n",
       "      <td>...</td>\n",
       "      <td>...</td>\n",
       "    </tr>\n",
       "    <tr>\n",
       "      <th>315</th>\n",
       "      <td>Kilimani</td>\n",
       "      <td>26,000,000</td>\n",
       "      <td>3</td>\n",
       "      <td>Not available</td>\n",
       "      <td>Not available</td>\n",
       "      <td>Not available</td>\n",
       "    </tr>\n",
       "    <tr>\n",
       "      <th>316</th>\n",
       "      <td>Kilimani</td>\n",
       "      <td>25,000,000</td>\n",
       "      <td>Not available</td>\n",
       "      <td>Not available</td>\n",
       "      <td>Not available</td>\n",
       "      <td>Not available</td>\n",
       "    </tr>\n",
       "    <tr>\n",
       "      <th>317</th>\n",
       "      <td>Kihingo</td>\n",
       "      <td>165,000,000</td>\n",
       "      <td>4</td>\n",
       "      <td>5</td>\n",
       "      <td>Not available</td>\n",
       "      <td>Not available</td>\n",
       "    </tr>\n",
       "    <tr>\n",
       "      <th>318</th>\n",
       "      <td>Chalbi Drive</td>\n",
       "      <td>66,000,000</td>\n",
       "      <td>4</td>\n",
       "      <td>5</td>\n",
       "      <td>Not available</td>\n",
       "      <td>Not available</td>\n",
       "    </tr>\n",
       "    <tr>\n",
       "      <th>319</th>\n",
       "      <td>House No 21</td>\n",
       "      <td>120,000,000</td>\n",
       "      <td>10</td>\n",
       "      <td>10</td>\n",
       "      <td>Not available</td>\n",
       "      <td>Not available</td>\n",
       "    </tr>\n",
       "  </tbody>\n",
       "</table>\n",
       "<p>320 rows × 6 columns</p>\n",
       "</div>"
      ],
      "text/plain": [
       "         Location        Price       Bedrooms      Bathrooms        Toilets  \\\n",
       "0           Runda  100,000,000              5              5  Not available   \n",
       "1      Kileleshwa   27,500,000              4              5              5   \n",
       "2            Ruai    7,800,000              5              4              5   \n",
       "3           Karen   75,500,000              5              5  Not available   \n",
       "4           Haven  120,000,000              4              4              4   \n",
       "..            ...          ...            ...            ...            ...   \n",
       "315      Kilimani   26,000,000              3  Not available  Not available   \n",
       "316      Kilimani   25,000,000  Not available  Not available  Not available   \n",
       "317       Kihingo  165,000,000              4              5  Not available   \n",
       "318  Chalbi Drive   66,000,000              4              5  Not available   \n",
       "319   House No 21  120,000,000             10             10  Not available   \n",
       "\n",
       "           Parking  \n",
       "0    Not available  \n",
       "1    Not available  \n",
       "2                2  \n",
       "3    Not available  \n",
       "4                4  \n",
       "..             ...  \n",
       "315  Not available  \n",
       "316  Not available  \n",
       "317  Not available  \n",
       "318  Not available  \n",
       "319  Not available  \n",
       "\n",
       "[320 rows x 6 columns]"
      ]
     },
     "execution_count": 2,
     "metadata": {},
     "output_type": "execute_result"
    }
   ],
   "source": [
    "df1"
   ]
  },
  {
   "cell_type": "markdown",
   "id": "72bd33e2",
   "metadata": {},
   "source": [
    "This first dataframe has 320 rows and 6 columns"
   ]
  },
  {
   "cell_type": "code",
   "execution_count": 3,
   "id": "6f813e8d",
   "metadata": {},
   "outputs": [
    {
     "data": {
      "text/html": [
       "<div>\n",
       "<style scoped>\n",
       "    .dataframe tbody tr th:only-of-type {\n",
       "        vertical-align: middle;\n",
       "    }\n",
       "\n",
       "    .dataframe tbody tr th {\n",
       "        vertical-align: top;\n",
       "    }\n",
       "\n",
       "    .dataframe thead th {\n",
       "        text-align: right;\n",
       "    }\n",
       "</style>\n",
       "<table border=\"1\" class=\"dataframe\">\n",
       "  <thead>\n",
       "    <tr style=\"text-align: right;\">\n",
       "      <th></th>\n",
       "      <th>Location</th>\n",
       "      <th>Price</th>\n",
       "      <th>Bedrooms</th>\n",
       "      <th>Bathrooms</th>\n",
       "    </tr>\n",
       "  </thead>\n",
       "  <tbody>\n",
       "    <tr>\n",
       "      <th>0</th>\n",
       "      <td>Nairobi South, Starehe</td>\n",
       "      <td>26,000,000</td>\n",
       "      <td>4</td>\n",
       "      <td>3</td>\n",
       "    </tr>\n",
       "    <tr>\n",
       "      <th>1</th>\n",
       "      <td>Karen, Langata</td>\n",
       "      <td>100,000,000</td>\n",
       "      <td>5</td>\n",
       "      <td>4</td>\n",
       "    </tr>\n",
       "    <tr>\n",
       "      <th>2</th>\n",
       "      <td>Nairobi</td>\n",
       "      <td>16,750,000</td>\n",
       "      <td>3</td>\n",
       "      <td>2</td>\n",
       "    </tr>\n",
       "    <tr>\n",
       "      <th>3</th>\n",
       "      <td>Nairobi</td>\n",
       "      <td>13,000,000</td>\n",
       "      <td>3</td>\n",
       "      <td>2</td>\n",
       "    </tr>\n",
       "    <tr>\n",
       "      <th>4</th>\n",
       "      <td>Nairobi</td>\n",
       "      <td>48,000,000</td>\n",
       "      <td>4</td>\n",
       "      <td>5</td>\n",
       "    </tr>\n",
       "    <tr>\n",
       "      <th>...</th>\n",
       "      <td>...</td>\n",
       "      <td>...</td>\n",
       "      <td>...</td>\n",
       "      <td>...</td>\n",
       "    </tr>\n",
       "    <tr>\n",
       "      <th>43051</th>\n",
       "      <td>Nairobi</td>\n",
       "      <td>48,000,000</td>\n",
       "      <td>4</td>\n",
       "      <td>4</td>\n",
       "    </tr>\n",
       "    <tr>\n",
       "      <th>43052</th>\n",
       "      <td>Nairobi</td>\n",
       "      <td>65,000,000</td>\n",
       "      <td>4</td>\n",
       "      <td>4</td>\n",
       "    </tr>\n",
       "    <tr>\n",
       "      <th>43053</th>\n",
       "      <td>Nairobi</td>\n",
       "      <td>70,000,000</td>\n",
       "      <td>5</td>\n",
       "      <td>5</td>\n",
       "    </tr>\n",
       "    <tr>\n",
       "      <th>43054</th>\n",
       "      <td>Nairobi</td>\n",
       "      <td>400,000,000</td>\n",
       "      <td>4</td>\n",
       "      <td>5</td>\n",
       "    </tr>\n",
       "    <tr>\n",
       "      <th>43055</th>\n",
       "      <td>Nairobi</td>\n",
       "      <td>42,000,000</td>\n",
       "      <td>5</td>\n",
       "      <td>4</td>\n",
       "    </tr>\n",
       "  </tbody>\n",
       "</table>\n",
       "<p>43056 rows × 4 columns</p>\n",
       "</div>"
      ],
      "text/plain": [
       "                      Location        Price  Bedrooms Bathrooms\n",
       "0       Nairobi South, Starehe   26,000,000         4        3 \n",
       "1               Karen, Langata  100,000,000         5        4 \n",
       "2                      Nairobi   16,750,000         3        2 \n",
       "3                      Nairobi   13,000,000         3        2 \n",
       "4                      Nairobi   48,000,000         4        5 \n",
       "...                        ...          ...       ...       ...\n",
       "43051                  Nairobi   48,000,000         4        4 \n",
       "43052                  Nairobi   65,000,000         4        4 \n",
       "43053                  Nairobi   70,000,000         5        5 \n",
       "43054                  Nairobi  400,000,000         4        5 \n",
       "43055                  Nairobi   42,000,000         5        4 \n",
       "\n",
       "[43056 rows x 4 columns]"
      ]
     },
     "execution_count": 3,
     "metadata": {},
     "output_type": "execute_result"
    }
   ],
   "source": [
    "# uploading the second dataframe\n",
    "df2 = pd.read_csv('stardata.csv')\n",
    "df2"
   ]
  },
  {
   "cell_type": "markdown",
   "id": "793eddb8",
   "metadata": {},
   "source": [
    "The second datafrane has 43,056 rows and columns"
   ]
  },
  {
   "cell_type": "code",
   "execution_count": 4,
   "id": "b6f71b93",
   "metadata": {},
   "outputs": [
    {
     "data": {
      "text/html": [
       "<div>\n",
       "<style scoped>\n",
       "    .dataframe tbody tr th:only-of-type {\n",
       "        vertical-align: middle;\n",
       "    }\n",
       "\n",
       "    .dataframe tbody tr th {\n",
       "        vertical-align: top;\n",
       "    }\n",
       "\n",
       "    .dataframe thead th {\n",
       "        text-align: right;\n",
       "    }\n",
       "</style>\n",
       "<table border=\"1\" class=\"dataframe\">\n",
       "  <thead>\n",
       "    <tr style=\"text-align: right;\">\n",
       "      <th></th>\n",
       "      <th>Location</th>\n",
       "      <th>Price</th>\n",
       "      <th>Bedrooms</th>\n",
       "      <th>Bathrooms</th>\n",
       "      <th>Toilets</th>\n",
       "      <th>Parking</th>\n",
       "    </tr>\n",
       "  </thead>\n",
       "  <tbody>\n",
       "    <tr>\n",
       "      <th>0</th>\n",
       "      <td>Runda</td>\n",
       "      <td>100,000,000</td>\n",
       "      <td>5</td>\n",
       "      <td>5</td>\n",
       "      <td>Not available</td>\n",
       "      <td>Not available</td>\n",
       "    </tr>\n",
       "    <tr>\n",
       "      <th>1</th>\n",
       "      <td>Kileleshwa</td>\n",
       "      <td>27,500,000</td>\n",
       "      <td>4</td>\n",
       "      <td>5</td>\n",
       "      <td>5</td>\n",
       "      <td>Not available</td>\n",
       "    </tr>\n",
       "    <tr>\n",
       "      <th>2</th>\n",
       "      <td>Ruai</td>\n",
       "      <td>7,800,000</td>\n",
       "      <td>5</td>\n",
       "      <td>4</td>\n",
       "      <td>5</td>\n",
       "      <td>2</td>\n",
       "    </tr>\n",
       "    <tr>\n",
       "      <th>3</th>\n",
       "      <td>Karen</td>\n",
       "      <td>75,500,000</td>\n",
       "      <td>5</td>\n",
       "      <td>5</td>\n",
       "      <td>Not available</td>\n",
       "      <td>Not available</td>\n",
       "    </tr>\n",
       "    <tr>\n",
       "      <th>4</th>\n",
       "      <td>Haven</td>\n",
       "      <td>120,000,000</td>\n",
       "      <td>4</td>\n",
       "      <td>4</td>\n",
       "      <td>4</td>\n",
       "      <td>4</td>\n",
       "    </tr>\n",
       "    <tr>\n",
       "      <th>...</th>\n",
       "      <td>...</td>\n",
       "      <td>...</td>\n",
       "      <td>...</td>\n",
       "      <td>...</td>\n",
       "      <td>...</td>\n",
       "      <td>...</td>\n",
       "    </tr>\n",
       "    <tr>\n",
       "      <th>43051</th>\n",
       "      <td>Nairobi</td>\n",
       "      <td>48,000,000</td>\n",
       "      <td>4</td>\n",
       "      <td>4</td>\n",
       "      <td>NaN</td>\n",
       "      <td>NaN</td>\n",
       "    </tr>\n",
       "    <tr>\n",
       "      <th>43052</th>\n",
       "      <td>Nairobi</td>\n",
       "      <td>65,000,000</td>\n",
       "      <td>4</td>\n",
       "      <td>4</td>\n",
       "      <td>NaN</td>\n",
       "      <td>NaN</td>\n",
       "    </tr>\n",
       "    <tr>\n",
       "      <th>43053</th>\n",
       "      <td>Nairobi</td>\n",
       "      <td>70,000,000</td>\n",
       "      <td>5</td>\n",
       "      <td>5</td>\n",
       "      <td>NaN</td>\n",
       "      <td>NaN</td>\n",
       "    </tr>\n",
       "    <tr>\n",
       "      <th>43054</th>\n",
       "      <td>Nairobi</td>\n",
       "      <td>400,000,000</td>\n",
       "      <td>4</td>\n",
       "      <td>5</td>\n",
       "      <td>NaN</td>\n",
       "      <td>NaN</td>\n",
       "    </tr>\n",
       "    <tr>\n",
       "      <th>43055</th>\n",
       "      <td>Nairobi</td>\n",
       "      <td>42,000,000</td>\n",
       "      <td>5</td>\n",
       "      <td>4</td>\n",
       "      <td>NaN</td>\n",
       "      <td>NaN</td>\n",
       "    </tr>\n",
       "  </tbody>\n",
       "</table>\n",
       "<p>43376 rows × 6 columns</p>\n",
       "</div>"
      ],
      "text/plain": [
       "         Location        Price Bedrooms Bathrooms        Toilets  \\\n",
       "0           Runda  100,000,000        5         5  Not available   \n",
       "1      Kileleshwa   27,500,000        4         5              5   \n",
       "2            Ruai    7,800,000        5         4              5   \n",
       "3           Karen   75,500,000        5         5  Not available   \n",
       "4           Haven  120,000,000        4         4              4   \n",
       "...           ...          ...      ...       ...            ...   \n",
       "43051     Nairobi   48,000,000        4        4             NaN   \n",
       "43052     Nairobi   65,000,000        4        4             NaN   \n",
       "43053     Nairobi   70,000,000        5        5             NaN   \n",
       "43054     Nairobi  400,000,000        4        5             NaN   \n",
       "43055     Nairobi   42,000,000        5        4             NaN   \n",
       "\n",
       "             Parking  \n",
       "0      Not available  \n",
       "1      Not available  \n",
       "2                  2  \n",
       "3      Not available  \n",
       "4                  4  \n",
       "...              ...  \n",
       "43051            NaN  \n",
       "43052            NaN  \n",
       "43053            NaN  \n",
       "43054            NaN  \n",
       "43055            NaN  \n",
       "\n",
       "[43376 rows x 6 columns]"
      ]
     },
     "execution_count": 4,
     "metadata": {},
     "output_type": "execute_result"
    }
   ],
   "source": [
    "df = pd.concat([df1, df2], axis=0)\n",
    "df"
   ]
  },
  {
   "cell_type": "markdown",
   "id": "74c96874",
   "metadata": {},
   "source": [
    "df refers to the two dataframes combines and the dataframe has 43,376 rows and 6 columns. "
   ]
  },
  {
   "cell_type": "code",
   "execution_count": 5,
   "id": "b9bdff2e",
   "metadata": {},
   "outputs": [
    {
     "data": {
      "text/plain": [
       " Nairobi                   21527\n",
       " Karen, Langata            12558\n",
       " Nairobi South, Starehe     8970\n",
       "Runda                         59\n",
       "Lavington                     39\n",
       "                           ...  \n",
       "Ridge                          1\n",
       "Hardy Area                     1\n",
       "Mzima Springs                  1\n",
       "Muthaiga North Rd              1\n",
       "Nairobi                        1\n",
       "Name: Location, Length: 108, dtype: int64"
      ]
     },
     "execution_count": 5,
     "metadata": {},
     "output_type": "execute_result"
    }
   ],
   "source": [
    "df['Location'].value_counts()"
   ]
  },
  {
   "cell_type": "markdown",
   "id": "ef7c4a73",
   "metadata": {},
   "source": []
  },
  {
   "cell_type": "code",
   "execution_count": 6,
   "id": "459be47c",
   "metadata": {},
   "outputs": [
    {
     "data": {
      "text/plain": [
       "5                23322\n",
       "4                14352\n",
       "3                 5382\n",
       "5                  139\n",
       "4                  104\n",
       "3                   26\n",
       "6                   25\n",
       "7                    9\n",
       "8                    5\n",
       "10                   4\n",
       "14                   2\n",
       "2                    2\n",
       "Not available        2\n",
       "16                   1\n",
       "9                    1\n",
       "Name: Bedrooms, dtype: int64"
      ]
     },
     "execution_count": 6,
     "metadata": {},
     "output_type": "execute_result"
    }
   ],
   "source": [
    "df['Bedrooms'].value_counts()"
   ]
  },
  {
   "cell_type": "code",
   "execution_count": 7,
   "id": "99c94525",
   "metadata": {},
   "outputs": [
    {
     "data": {
      "text/plain": [
       "5                16146\n",
       "4                12558\n",
       "3                 5382\n",
       "2                 5382\n",
       "7                 1794\n",
       "House             1794\n",
       "5                   93\n",
       "6                   82\n",
       "4                   46\n",
       "7                   26\n",
       "Not available       23\n",
       "3                   19\n",
       "2                    8\n",
       "9                    6\n",
       "8                    6\n",
       "10                   4\n",
       "12                   1\n",
       "340                  1\n",
       "180                  1\n",
       "15                   1\n",
       "11                   1\n",
       "1                    1\n",
       "18                   1\n",
       "Name: Bathrooms, dtype: int64"
      ]
     },
     "execution_count": 7,
     "metadata": {},
     "output_type": "execute_result"
    }
   ],
   "source": [
    "df['Bathrooms'].value_counts()"
   ]
  },
  {
   "cell_type": "code",
   "execution_count": 8,
   "id": "6b09a3f0",
   "metadata": {},
   "outputs": [
    {
     "data": {
      "text/plain": [
       "6                89\n",
       "5                73\n",
       "Not available    46\n",
       "4                35\n",
       "7                27\n",
       "3                16\n",
       "2                 9\n",
       "1                 8\n",
       "9                 5\n",
       "8                 4\n",
       "10                3\n",
       "12                1\n",
       "18                1\n",
       "15                1\n",
       "210               1\n",
       "11                1\n",
       "Name: Toilets, dtype: int64"
      ]
     },
     "execution_count": 8,
     "metadata": {},
     "output_type": "execute_result"
    }
   ],
   "source": [
    "df['Toilets'].value_counts()"
   ]
  },
  {
   "cell_type": "code",
   "execution_count": 9,
   "id": "aab0d304",
   "metadata": {},
   "outputs": [
    {
     "data": {
      "text/plain": [
       "6                89\n",
       "5                73\n",
       "Not available    46\n",
       "4                35\n",
       "7                27\n",
       "3                16\n",
       "2                 9\n",
       "1                 8\n",
       "9                 5\n",
       "8                 4\n",
       "10                3\n",
       "12                1\n",
       "18                1\n",
       "15                1\n",
       "210               1\n",
       "11                1\n",
       "Name: Toilets, dtype: int64"
      ]
     },
     "execution_count": 9,
     "metadata": {},
     "output_type": "execute_result"
    }
   ],
   "source": [
    "df['Toilets'].value_counts()"
   ]
  },
  {
   "cell_type": "code",
   "execution_count": 10,
   "id": "d89eac68",
   "metadata": {},
   "outputs": [
    {
     "data": {
      "text/plain": [
       "Not available    103\n",
       "4                 43\n",
       "5                 35\n",
       "6                 30\n",
       "3                 28\n",
       "10                21\n",
       "2                 18\n",
       "8                 14\n",
       "7                 11\n",
       "9                  5\n",
       "15                 3\n",
       "20                 3\n",
       "14                 1\n",
       "4,830              1\n",
       "30                 1\n",
       "5,000              1\n",
       "2,023              1\n",
       "1                  1\n",
       "Name: Parking, dtype: int64"
      ]
     },
     "execution_count": 10,
     "metadata": {},
     "output_type": "execute_result"
    }
   ],
   "source": [
    "df['Parking'].value_counts()"
   ]
  },
  {
   "cell_type": "code",
   "execution_count": 11,
   "id": "440f8f04",
   "metadata": {},
   "outputs": [],
   "source": [
    "class DataUnderstanding(object):\n",
    "    \"\"\"This is a class that does basic data understanding\"\"\"\n",
    "    def __init__(self, df):\n",
    "        self.shape = df.shape\n",
    "        self.info = df.info\n",
    "        self.duplicates = df.duplicated().sum()\n",
    "        self.missing = df.isna().sum()\n",
    "        self.types = df.dtypes"
   ]
  },
  {
   "cell_type": "code",
   "execution_count": 12,
   "id": "7506f519",
   "metadata": {},
   "outputs": [],
   "source": [
    "#instantiating the classes\n",
    "dataund= DataUnderstanding(df)"
   ]
  },
  {
   "cell_type": "code",
   "execution_count": 13,
   "id": "9e1a6369",
   "metadata": {},
   "outputs": [
    {
     "name": "stdout",
     "output_type": "stream",
     "text": [
      "shape:(43376, 6)\n"
     ]
    }
   ],
   "source": [
    "#Getting the shape of the dataset\n",
    "print(f\"shape:{dataund.shape}\")"
   ]
  },
  {
   "cell_type": "code",
   "execution_count": 14,
   "id": "cb0fd804",
   "metadata": {},
   "outputs": [
    {
     "name": "stdout",
     "output_type": "stream",
     "text": [
      "<class 'pandas.core.frame.DataFrame'>\n",
      "Int64Index: 43376 entries, 0 to 43055\n",
      "Data columns (total 6 columns):\n",
      " #   Column     Non-Null Count  Dtype \n",
      "---  ------     --------------  ----- \n",
      " 0   Location   43376 non-null  object\n",
      " 1   Price      43376 non-null  object\n",
      " 2   Bedrooms   43376 non-null  object\n",
      " 3   Bathrooms  43376 non-null  object\n",
      " 4   Toilets    320 non-null    object\n",
      " 5   Parking    320 non-null    object\n",
      "dtypes: object(6)\n",
      "memory usage: 2.3+ MB\n",
      "None\n"
     ]
    }
   ],
   "source": [
    "#getting the info of the data\n",
    "print(dataund.info())"
   ]
  },
  {
   "cell_type": "code",
   "execution_count": 15,
   "id": "0230336f",
   "metadata": {},
   "outputs": [
    {
     "data": {
      "text/plain": [
       "Location         0\n",
       "Price            0\n",
       "Bedrooms         0\n",
       "Bathrooms        0\n",
       "Toilets      43056\n",
       "Parking      43056\n",
       "dtype: int64"
      ]
     },
     "execution_count": 15,
     "metadata": {},
     "output_type": "execute_result"
    }
   ],
   "source": [
    "#getting the missing values\n",
    "dataund.missing"
   ]
  },
  {
   "cell_type": "code",
   "execution_count": 16,
   "id": "c8818ea9",
   "metadata": {},
   "outputs": [
    {
     "data": {
      "text/plain": [
       "Location     object\n",
       "Price        object\n",
       "Bedrooms     object\n",
       "Bathrooms    object\n",
       "Toilets      object\n",
       "Parking      object\n",
       "dtype: object"
      ]
     },
     "execution_count": 16,
     "metadata": {},
     "output_type": "execute_result"
    }
   ],
   "source": [
    "#checking the data types\n",
    "dataund.types"
   ]
  },
  {
   "cell_type": "code",
   "execution_count": 17,
   "id": "029b7b47",
   "metadata": {},
   "outputs": [
    {
     "name": "stdout",
     "output_type": "stream",
     "text": [
      "Duplictes:43048\n"
     ]
    }
   ],
   "source": [
    "#checking for duplicates\n",
    "print(f\"Duplictes:{dataund.duplicates.sum()}\")"
   ]
  },
  {
   "cell_type": "markdown",
   "id": "9f8fa149",
   "metadata": {},
   "source": [
    "## Data Preparation "
   ]
  },
  {
   "cell_type": "code",
   "execution_count": null,
   "id": "69ee9dce",
   "metadata": {},
   "outputs": [],
   "source": []
  }
 ],
 "metadata": {
  "kernelspec": {
   "display_name": "Python (learn-env)",
   "language": "python",
   "name": "learn-env"
  },
  "language_info": {
   "codemirror_mode": {
    "name": "ipython",
    "version": 3
   },
   "file_extension": ".py",
   "mimetype": "text/x-python",
   "name": "python",
   "nbconvert_exporter": "python",
   "pygments_lexer": "ipython3",
   "version": "3.9.12"
  }
 },
 "nbformat": 4,
 "nbformat_minor": 5
}
